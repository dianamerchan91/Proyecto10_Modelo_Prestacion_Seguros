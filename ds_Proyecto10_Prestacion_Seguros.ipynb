{
 "cells": [
  {
   "cell_type": "markdown",
   "metadata": {},
   "source": [
    "# Modelo de Machine Learning para predecir prestaciones de seguro en la compañía Sure Tomorrow"
   ]
  },
  {
   "cell_type": "markdown",
   "metadata": {
    "toc": true
   },
   "source": [
    "<h1>Tabla de Contenidos<span class=\"tocSkip\"></span></h1>\n",
    "<div class=\"toc\"><ul class=\"toc-item\"><li><span><a href=\"#Introducción\" data-toc-modified-id=\"Introducción-1\"><span class=\"toc-item-num\">1&nbsp;&nbsp;</span>Introducción</a></span><ul class=\"toc-item\"><li><span><a href=\"#Objetivos\" data-toc-modified-id=\"Objetivos-1.1\"><span class=\"toc-item-num\">1.1&nbsp;&nbsp;</span>Objetivos</a></span></li></ul></li><li><span><a href=\"#Preprocesamiento-y-exploración-de-datos\" data-toc-modified-id=\"Preprocesamiento-y-exploración-de-datos-2\"><span class=\"toc-item-num\">2&nbsp;&nbsp;</span>Preprocesamiento y exploración de datos</a></span><ul class=\"toc-item\"><li><span><a href=\"#Inicialización\" data-toc-modified-id=\"Inicialización-2.1\"><span class=\"toc-item-num\">2.1&nbsp;&nbsp;</span>Inicialización</a></span></li><li><span><a href=\"#Carga-de-datos\" data-toc-modified-id=\"Carga-de-datos-2.2\"><span class=\"toc-item-num\">2.2&nbsp;&nbsp;</span>Carga de datos</a></span></li><li><span><a href=\"#Conclusiones\" data-toc-modified-id=\"Conclusiones-2.3\"><span class=\"toc-item-num\">2.3&nbsp;&nbsp;</span>Conclusiones</a></span></li></ul></li><li><span><a href=\"#Análisis-exploratorio-de-datos\" data-toc-modified-id=\"Análisis-exploratorio-de-datos-3\"><span class=\"toc-item-num\">3&nbsp;&nbsp;</span>Análisis exploratorio de datos</a></span></li><li><span><a href=\"#Tarea-1.-Clientes-similares\" data-toc-modified-id=\"Tarea-1.-Clientes-similares-4\"><span class=\"toc-item-num\">4&nbsp;&nbsp;</span>Tarea 1. Clientes similares</a></span></li><li><span><a href=\"#Tarea-2.-¿Es-probable-que-el-cliente-reciba-una-prestación-del-seguro?\" data-toc-modified-id=\"Tarea-2.-¿Es-probable-que-el-cliente-reciba-una-prestación-del-seguro?-5\"><span class=\"toc-item-num\">5&nbsp;&nbsp;</span>Tarea 2. ¿Es probable que el cliente reciba una prestación del seguro?</a></span></li><li><span><a href=\"#Tarea-3.-Regresión-(con-regresión-lineal)\" data-toc-modified-id=\"Tarea-3.-Regresión-(con-regresión-lineal)-6\"><span class=\"toc-item-num\">6&nbsp;&nbsp;</span>Tarea 3. Regresión (con regresión lineal)</a></span></li><li><span><a href=\"#Tarea-4.-Ofuscar-datos\" data-toc-modified-id=\"Tarea-4.-Ofuscar-datos-7\"><span class=\"toc-item-num\">7&nbsp;&nbsp;</span>Tarea 4. Ofuscar datos</a></span></li><li><span><a href=\"#Prueba-de-que-la-ofuscación-de-datos-puede-funcionar-con-regresión-lineal\" data-toc-modified-id=\"Prueba-de-que-la-ofuscación-de-datos-puede-funcionar-con-regresión-lineal-8\"><span class=\"toc-item-num\">8&nbsp;&nbsp;</span>Prueba de que la ofuscación de datos puede funcionar con regresión lineal</a></span></li><li><span><a href=\"#Prueba-de-regresión-lineal-con-ofuscación-de-datos\" data-toc-modified-id=\"Prueba-de-regresión-lineal-con-ofuscación-de-datos-9\"><span class=\"toc-item-num\">9&nbsp;&nbsp;</span>Prueba de regresión lineal con ofuscación de datos</a></span></li><li><span><a href=\"#Conclusiones\" data-toc-modified-id=\"Conclusiones-10\"><span class=\"toc-item-num\">10&nbsp;&nbsp;</span>Conclusiones</a></span></li><li><span><a href=\"#Apéndices\" data-toc-modified-id=\"Apéndices-11\"><span class=\"toc-item-num\">11&nbsp;&nbsp;</span>Apéndices</a></span><ul class=\"toc-item\"><li><span><a href=\"#Apéndice-A:-Escribir-fórmulas-en-los-cuadernos-de-Jupyter\" data-toc-modified-id=\"Apéndice-A:-Escribir-fórmulas-en-los-cuadernos-de-Jupyter-11.1\"><span class=\"toc-item-num\">11.1&nbsp;&nbsp;</span>Apéndice A: Escribir fórmulas en los cuadernos de Jupyter</a></span></li><li><span><a href=\"#Apéndice-B:-Propiedades-de-las-matrices\" data-toc-modified-id=\"Apéndice-B:-Propiedades-de-las-matrices-11.2\"><span class=\"toc-item-num\">11.2&nbsp;&nbsp;</span>Apéndice B: Propiedades de las matrices</a></span></li></ul></li></ul></div>"
   ]
  },
  {
   "cell_type": "markdown",
   "metadata": {},
   "source": [
    "## Introducción\n",
    "\n",
    "La compañía de seguros Sure Tomorrow está buscando una mejora en la asignación de seguros a sus clientes, por lo que ha decidido recurrir al uso de modelos de machine learning, que le permitan mejorar sus servicios. Los modelos predictivos se han empezado a utilizar dentro del sector de aseguradoras, sobretodo ayudando en la búsqueda de patrones de comportamiento de usuarios, estableciendo la probabilidad de que un nuevo cliente reciba un seguro o en la protección de la información personal de cada cliente. Así que el uso de esta tecnología se está convirtiendo en una herramienta sustancial para la optimización en el trabajo de aseguradoras. \n",
    "\n",
    "### Objetivos\n",
    "\n",
    "1. Encontrar clientes que sean similares a un cliente determinado. Esto ayudará a los agentes de la compañía con el marketing.\n",
    "2. Predecir la probabilidad de que un nuevo cliente reciba una prestación del seguro. ¿Puede un modelo de predictivo funcionar mejor que un modelo dummy?\n",
    "3. Predecir el número de prestaciones de seguro que un nuevo cliente pueda recibir utilizando un modelo de regresión lineal.\n",
    "4. Proteger los datos personales de los clientes sin afectar al modelo del ejercicio anterior. Es necesario desarrollar un algoritmo de transformación de datos que dificulte la recuperación de la información personal si los datos caen en manos equivocadas. Esto se denomina enmascaramiento u ofuscación de datos. Pero los datos deben protegerse de tal manera que no se vea afectada la calidad de los modelos de machine learning. No es necesario elegir el mejor modelo, basta con demostrar que el algoritmo funciona correctamente."
   ]
  },
  {
   "cell_type": "markdown",
   "metadata": {},
   "source": [
    "## Preprocesamiento y exploración de datos\n",
    "\n",
    "### Inicialización\n",
    "\n",
    "Iniciamos importando las librerías necesarias para la lectura correcta de archivos, manejo de matrices, desarrollo de gráficos, análisis de datos y construcció de modelos de machine learning. Para este proyecto trabajaremos con las librerías: `Numpy`, `Pandas`, `Scikit-Learn` y `Seaborn`."
   ]
  },
  {
   "cell_type": "code",
   "execution_count": 1,
   "metadata": {},
   "outputs": [
    {
     "name": "stdout",
     "output_type": "stream",
     "text": [
      "Requirement already satisfied: scikit-learn in /opt/conda/lib/python3.9/site-packages (0.24.1)\n",
      "Collecting scikit-learn\n",
      "  Downloading scikit_learn-1.2.0-cp39-cp39-manylinux_2_17_x86_64.manylinux2014_x86_64.whl (9.5 MB)\n",
      "\u001b[K     |████████████████████████████████| 9.5 MB 19.4 MB/s eta 0:00:01\n",
      "\u001b[?25hCollecting joblib>=1.1.1\n",
      "  Downloading joblib-1.2.0-py3-none-any.whl (297 kB)\n",
      "\u001b[K     |████████████████████████████████| 297 kB 59.6 MB/s eta 0:00:01\n",
      "\u001b[?25hRequirement already satisfied: threadpoolctl>=2.0.0 in /opt/conda/lib/python3.9/site-packages (from scikit-learn) (3.1.0)\n",
      "Requirement already satisfied: scipy>=1.3.2 in /opt/conda/lib/python3.9/site-packages (from scikit-learn) (1.8.0)\n",
      "Requirement already satisfied: numpy>=1.17.3 in /opt/conda/lib/python3.9/site-packages (from scikit-learn) (1.21.1)\n",
      "Installing collected packages: joblib, scikit-learn\n",
      "  Attempting uninstall: joblib\n",
      "    Found existing installation: joblib 1.1.0\n",
      "    Uninstalling joblib-1.1.0:\n",
      "\u001b[31mERROR: Could not install packages due to an OSError: [Errno 13] Permission denied: 'INSTALLER'\n",
      "Consider using the `--user` option or check the permissions.\n",
      "\u001b[0m\n",
      "Note: you may need to restart the kernel to use updated packages.\n"
     ]
    }
   ],
   "source": [
    "pip install scikit-learn --upgrade"
   ]
  },
  {
   "cell_type": "code",
   "execution_count": 2,
   "metadata": {},
   "outputs": [],
   "source": [
    "import numpy as np\n",
    "import pandas as pd\n",
    "import math\n",
    "\n",
    "import seaborn as sns\n",
    "import matplotlib.pyplot as plt\n",
    "\n",
    "import sklearn.linear_model\n",
    "import sklearn.metrics\n",
    "import sklearn.neighbors\n",
    "import sklearn.preprocessing\n",
    "\n",
    "from sklearn.model_selection import train_test_split\n",
    "\n",
    "from IPython.display import display"
   ]
  },
  {
   "cell_type": "markdown",
   "metadata": {},
   "source": [
    "### Carga de datos"
   ]
  },
  {
   "cell_type": "markdown",
   "metadata": {},
   "source": [
    "Cargamos los datos y hacemos una revisión básica para comprobar que no hay problemas obvios. Guardaremos nuestro dataset como `df`."
   ]
  },
  {
   "cell_type": "code",
   "execution_count": 3,
   "metadata": {},
   "outputs": [],
   "source": [
    "df = pd.read_csv('/datasets/insurance_us.csv')"
   ]
  },
  {
   "cell_type": "markdown",
   "metadata": {},
   "source": [
    "Renombramos las columnas para que el código se vea más coherente con su estilo."
   ]
  },
  {
   "cell_type": "code",
   "execution_count": 4,
   "metadata": {},
   "outputs": [],
   "source": [
    "df = df.rename(columns={'Gender': 'gender', \n",
    "                        'Age': 'age', \n",
    "                        'Salary': 'income', \n",
    "                        'Family members': 'family_members', \n",
    "                        'Insurance benefits': 'insurance_benefits'})"
   ]
  },
  {
   "cell_type": "markdown",
   "metadata": {},
   "source": [
    "Llamaremos al atributo `shape`, a la función `sample` para obtener una muestra aleatoria de 10 filas u observaciones de nuestro dataset. También llamaremos al método `info` e `isna` para analizar los tipos de datos con los que trabajaremos y comprobar la presencia de valores ausentes. "
   ]
  },
  {
   "cell_type": "code",
   "execution_count": 5,
   "metadata": {},
   "outputs": [
    {
     "data": {
      "text/plain": [
       "(5000, 5)"
      ]
     },
     "execution_count": 5,
     "metadata": {},
     "output_type": "execute_result"
    }
   ],
   "source": [
    "df.shape"
   ]
  },
  {
   "cell_type": "code",
   "execution_count": 6,
   "metadata": {},
   "outputs": [
    {
     "data": {
      "text/html": [
       "<div>\n",
       "<style scoped>\n",
       "    .dataframe tbody tr th:only-of-type {\n",
       "        vertical-align: middle;\n",
       "    }\n",
       "\n",
       "    .dataframe tbody tr th {\n",
       "        vertical-align: top;\n",
       "    }\n",
       "\n",
       "    .dataframe thead th {\n",
       "        text-align: right;\n",
       "    }\n",
       "</style>\n",
       "<table border=\"1\" class=\"dataframe\">\n",
       "  <thead>\n",
       "    <tr style=\"text-align: right;\">\n",
       "      <th></th>\n",
       "      <th>gender</th>\n",
       "      <th>age</th>\n",
       "      <th>income</th>\n",
       "      <th>family_members</th>\n",
       "      <th>insurance_benefits</th>\n",
       "    </tr>\n",
       "  </thead>\n",
       "  <tbody>\n",
       "    <tr>\n",
       "      <th>764</th>\n",
       "      <td>1</td>\n",
       "      <td>30.0</td>\n",
       "      <td>42100.0</td>\n",
       "      <td>2</td>\n",
       "      <td>0</td>\n",
       "    </tr>\n",
       "    <tr>\n",
       "      <th>3630</th>\n",
       "      <td>1</td>\n",
       "      <td>24.0</td>\n",
       "      <td>46200.0</td>\n",
       "      <td>3</td>\n",
       "      <td>0</td>\n",
       "    </tr>\n",
       "    <tr>\n",
       "      <th>1074</th>\n",
       "      <td>1</td>\n",
       "      <td>29.0</td>\n",
       "      <td>32800.0</td>\n",
       "      <td>1</td>\n",
       "      <td>0</td>\n",
       "    </tr>\n",
       "    <tr>\n",
       "      <th>4116</th>\n",
       "      <td>0</td>\n",
       "      <td>35.0</td>\n",
       "      <td>41600.0</td>\n",
       "      <td>4</td>\n",
       "      <td>0</td>\n",
       "    </tr>\n",
       "    <tr>\n",
       "      <th>1976</th>\n",
       "      <td>1</td>\n",
       "      <td>45.0</td>\n",
       "      <td>32300.0</td>\n",
       "      <td>2</td>\n",
       "      <td>1</td>\n",
       "    </tr>\n",
       "    <tr>\n",
       "      <th>3364</th>\n",
       "      <td>1</td>\n",
       "      <td>21.0</td>\n",
       "      <td>24300.0</td>\n",
       "      <td>1</td>\n",
       "      <td>0</td>\n",
       "    </tr>\n",
       "    <tr>\n",
       "      <th>693</th>\n",
       "      <td>1</td>\n",
       "      <td>39.0</td>\n",
       "      <td>34100.0</td>\n",
       "      <td>1</td>\n",
       "      <td>0</td>\n",
       "    </tr>\n",
       "    <tr>\n",
       "      <th>2867</th>\n",
       "      <td>1</td>\n",
       "      <td>32.0</td>\n",
       "      <td>48900.0</td>\n",
       "      <td>0</td>\n",
       "      <td>0</td>\n",
       "    </tr>\n",
       "    <tr>\n",
       "      <th>4423</th>\n",
       "      <td>1</td>\n",
       "      <td>27.0</td>\n",
       "      <td>46300.0</td>\n",
       "      <td>0</td>\n",
       "      <td>0</td>\n",
       "    </tr>\n",
       "    <tr>\n",
       "      <th>2278</th>\n",
       "      <td>0</td>\n",
       "      <td>49.0</td>\n",
       "      <td>60300.0</td>\n",
       "      <td>1</td>\n",
       "      <td>2</td>\n",
       "    </tr>\n",
       "  </tbody>\n",
       "</table>\n",
       "</div>"
      ],
      "text/plain": [
       "      gender   age   income  family_members  insurance_benefits\n",
       "764        1  30.0  42100.0               2                   0\n",
       "3630       1  24.0  46200.0               3                   0\n",
       "1074       1  29.0  32800.0               1                   0\n",
       "4116       0  35.0  41600.0               4                   0\n",
       "1976       1  45.0  32300.0               2                   1\n",
       "3364       1  21.0  24300.0               1                   0\n",
       "693        1  39.0  34100.0               1                   0\n",
       "2867       1  32.0  48900.0               0                   0\n",
       "4423       1  27.0  46300.0               0                   0\n",
       "2278       0  49.0  60300.0               1                   2"
      ]
     },
     "execution_count": 6,
     "metadata": {},
     "output_type": "execute_result"
    }
   ],
   "source": [
    "df.sample(10)"
   ]
  },
  {
   "cell_type": "code",
   "execution_count": 7,
   "metadata": {},
   "outputs": [
    {
     "name": "stdout",
     "output_type": "stream",
     "text": [
      "<class 'pandas.core.frame.DataFrame'>\n",
      "RangeIndex: 5000 entries, 0 to 4999\n",
      "Data columns (total 5 columns):\n",
      " #   Column              Non-Null Count  Dtype  \n",
      "---  ------              --------------  -----  \n",
      " 0   gender              5000 non-null   int64  \n",
      " 1   age                 5000 non-null   float64\n",
      " 2   income              5000 non-null   float64\n",
      " 3   family_members      5000 non-null   int64  \n",
      " 4   insurance_benefits  5000 non-null   int64  \n",
      "dtypes: float64(2), int64(3)\n",
      "memory usage: 195.4 KB\n"
     ]
    }
   ],
   "source": [
    "df.info()"
   ]
  },
  {
   "cell_type": "code",
   "execution_count": 8,
   "metadata": {},
   "outputs": [
    {
     "data": {
      "text/plain": [
       "gender                0\n",
       "age                   0\n",
       "income                0\n",
       "family_members        0\n",
       "insurance_benefits    0\n",
       "dtype: int64"
      ]
     },
     "execution_count": 8,
     "metadata": {},
     "output_type": "execute_result"
    }
   ],
   "source": [
    "df.isna().sum()"
   ]
  },
  {
   "cell_type": "markdown",
   "metadata": {},
   "source": [
    "Nuestro dataset cuenta con 5000 filas y 5 columnas. Las columnas `gender`, `age`, `income` y `family_members` corresponden a las características de nuestro modelo predictivo, mientras que la `insurance_benefits` a nuestro objetivo. En cada columna se observar la siguiente información:\n",
    "\n",
    "- `gender`: género del cliente (0 Masculino, 1 Femenino)\n",
    "- `age`: edad del cliente\n",
    "- `income`: ingresos del cliente\n",
    "- `family_members`: número de miembros en la familia\n",
    "- `insurance_benefits`: cantidad de beneficios de seguro recibido por el cliente\n",
    "\n",
    "No se registran valores ausentes en nuestro dataset, pero será necesario transformar el tipo de dato de la columna edad de float a int, para esto utilizaremos la función astype. "
   ]
  },
  {
   "cell_type": "code",
   "execution_count": 9,
   "metadata": {},
   "outputs": [],
   "source": [
    "# Convertimos el tipo de dato a entero en la columna age\n",
    "df['age'] = df['age'].astype('int')"
   ]
  },
  {
   "cell_type": "code",
   "execution_count": 10,
   "metadata": {},
   "outputs": [
    {
     "name": "stdout",
     "output_type": "stream",
     "text": [
      "<class 'pandas.core.frame.DataFrame'>\n",
      "RangeIndex: 5000 entries, 0 to 4999\n",
      "Data columns (total 5 columns):\n",
      " #   Column              Non-Null Count  Dtype  \n",
      "---  ------              --------------  -----  \n",
      " 0   gender              5000 non-null   int64  \n",
      " 1   age                 5000 non-null   int64  \n",
      " 2   income              5000 non-null   float64\n",
      " 3   family_members      5000 non-null   int64  \n",
      " 4   insurance_benefits  5000 non-null   int64  \n",
      "dtypes: float64(1), int64(4)\n",
      "memory usage: 195.4 KB\n"
     ]
    }
   ],
   "source": [
    "# Comprobamos que la conversión se haya realizado con éxito\n",
    "df.info()"
   ]
  },
  {
   "cell_type": "markdown",
   "metadata": {},
   "source": [
    "Corregido el tipo de datos vamos a echar un vistazo a las estadísticas descriptivas de los datos, para esto llamaremos al método describe() y también estableceremos el recuento de valores únicos para las columnas `gender`, `family_members` e `insurance_benefits`."
   ]
  },
  {
   "cell_type": "code",
   "execution_count": 11,
   "metadata": {},
   "outputs": [
    {
     "data": {
      "text/html": [
       "<div>\n",
       "<style scoped>\n",
       "    .dataframe tbody tr th:only-of-type {\n",
       "        vertical-align: middle;\n",
       "    }\n",
       "\n",
       "    .dataframe tbody tr th {\n",
       "        vertical-align: top;\n",
       "    }\n",
       "\n",
       "    .dataframe thead th {\n",
       "        text-align: right;\n",
       "    }\n",
       "</style>\n",
       "<table border=\"1\" class=\"dataframe\">\n",
       "  <thead>\n",
       "    <tr style=\"text-align: right;\">\n",
       "      <th></th>\n",
       "      <th>gender</th>\n",
       "      <th>age</th>\n",
       "      <th>income</th>\n",
       "      <th>family_members</th>\n",
       "      <th>insurance_benefits</th>\n",
       "    </tr>\n",
       "  </thead>\n",
       "  <tbody>\n",
       "    <tr>\n",
       "      <th>count</th>\n",
       "      <td>5000.000000</td>\n",
       "      <td>5000.000000</td>\n",
       "      <td>5000.000000</td>\n",
       "      <td>5000.000000</td>\n",
       "      <td>5000.000000</td>\n",
       "    </tr>\n",
       "    <tr>\n",
       "      <th>mean</th>\n",
       "      <td>0.499000</td>\n",
       "      <td>30.952800</td>\n",
       "      <td>39916.360000</td>\n",
       "      <td>1.194200</td>\n",
       "      <td>0.148000</td>\n",
       "    </tr>\n",
       "    <tr>\n",
       "      <th>std</th>\n",
       "      <td>0.500049</td>\n",
       "      <td>8.440807</td>\n",
       "      <td>9900.083569</td>\n",
       "      <td>1.091387</td>\n",
       "      <td>0.463183</td>\n",
       "    </tr>\n",
       "    <tr>\n",
       "      <th>min</th>\n",
       "      <td>0.000000</td>\n",
       "      <td>18.000000</td>\n",
       "      <td>5300.000000</td>\n",
       "      <td>0.000000</td>\n",
       "      <td>0.000000</td>\n",
       "    </tr>\n",
       "    <tr>\n",
       "      <th>25%</th>\n",
       "      <td>0.000000</td>\n",
       "      <td>24.000000</td>\n",
       "      <td>33300.000000</td>\n",
       "      <td>0.000000</td>\n",
       "      <td>0.000000</td>\n",
       "    </tr>\n",
       "    <tr>\n",
       "      <th>50%</th>\n",
       "      <td>0.000000</td>\n",
       "      <td>30.000000</td>\n",
       "      <td>40200.000000</td>\n",
       "      <td>1.000000</td>\n",
       "      <td>0.000000</td>\n",
       "    </tr>\n",
       "    <tr>\n",
       "      <th>75%</th>\n",
       "      <td>1.000000</td>\n",
       "      <td>37.000000</td>\n",
       "      <td>46600.000000</td>\n",
       "      <td>2.000000</td>\n",
       "      <td>0.000000</td>\n",
       "    </tr>\n",
       "    <tr>\n",
       "      <th>max</th>\n",
       "      <td>1.000000</td>\n",
       "      <td>65.000000</td>\n",
       "      <td>79000.000000</td>\n",
       "      <td>6.000000</td>\n",
       "      <td>5.000000</td>\n",
       "    </tr>\n",
       "  </tbody>\n",
       "</table>\n",
       "</div>"
      ],
      "text/plain": [
       "            gender          age        income  family_members  \\\n",
       "count  5000.000000  5000.000000   5000.000000     5000.000000   \n",
       "mean      0.499000    30.952800  39916.360000        1.194200   \n",
       "std       0.500049     8.440807   9900.083569        1.091387   \n",
       "min       0.000000    18.000000   5300.000000        0.000000   \n",
       "25%       0.000000    24.000000  33300.000000        0.000000   \n",
       "50%       0.000000    30.000000  40200.000000        1.000000   \n",
       "75%       1.000000    37.000000  46600.000000        2.000000   \n",
       "max       1.000000    65.000000  79000.000000        6.000000   \n",
       "\n",
       "       insurance_benefits  \n",
       "count         5000.000000  \n",
       "mean             0.148000  \n",
       "std              0.463183  \n",
       "min              0.000000  \n",
       "25%              0.000000  \n",
       "50%              0.000000  \n",
       "75%              0.000000  \n",
       "max              5.000000  "
      ]
     },
     "execution_count": 11,
     "metadata": {},
     "output_type": "execute_result"
    }
   ],
   "source": [
    "df.describe()"
   ]
  },
  {
   "cell_type": "code",
   "execution_count": 12,
   "metadata": {},
   "outputs": [
    {
     "name": "stdout",
     "output_type": "stream",
     "text": [
      "0    0.501\n",
      "1    0.499\n",
      "Name: gender, dtype: float64\n",
      "1    0.3628\n",
      "0    0.3026\n",
      "2    0.2142\n",
      "3    0.0878\n",
      "4    0.0248\n",
      "5    0.0064\n",
      "6    0.0014\n",
      "Name: family_members, dtype: float64\n",
      "0    0.8872\n",
      "1    0.0846\n",
      "2    0.0230\n",
      "3    0.0036\n",
      "4    0.0014\n",
      "5    0.0002\n",
      "Name: insurance_benefits, dtype: float64\n"
     ]
    }
   ],
   "source": [
    "df_categorical = df[['gender', 'family_members', 'insurance_benefits']]\n",
    "\n",
    "for col in df_categorical:\n",
    "    print(df_categorical[col].value_counts(normalize=True))"
   ]
  },
  {
   "cell_type": "markdown",
   "metadata": {},
   "source": [
    "Para el caso de la edad `age`, los clientes de Sure Tomorrow presentan una edad promedio de alrededor de 30 años, siendo la edad más alta registrada 65 años. La diferencia entre la media y la mediana es de 0.95, y nos indica un mínimo sesgo hacia la derecha en la distribución de las edades. En cuanto al género `gender`, existe un mayor porcentaje de clientes del género masculino, alrededor del 50% y un menor porcentaje de mujeres, con un 49%. \n",
    "\n",
    "El ingreso promedio `income` registrado fue de 39916 dólares, con un valor mínimo de 5300 y un máximo de 79000. Este valor máximo es mayor a la suma del promedio más tres desviaciones estándar, por lo que se puede establecer la presencia de valores atípicos en esta columna. La media es inferior a la mediana, lo que nos indica una asimetría negativa de nuestros datos, con un mayor número de datos por debajo de la media.\n",
    "\n",
    "En cuanto al número de miembros de familia `family_members`, nos encontramos con un promedio de alrededor de 1, el valor mínimo es de 0 y el máximo de 6. Se puede observar que el valor para Q1 (cuantil 1) es cero, mientras que para el Q3 (cuantil 3) es dos, por lo que la mayoría de nuestros datos se distribuirán dentro de este rango. A su vez, esto se corrobora al estudiar los recuentos de valores únicos, dónde familias conformadas por cero a dos miembros, son las que representan el 84% de clientes. Mientras que clientes de familias con más de tres miembros constituyen un porcentaje menor. \n",
    "\n",
    "En el caso del número de beneficios `insurance_benefits`, se puede observar que la mayoría de clientes no han recibido un beneficio de seguro, ya que tanto el promedio, mediana, Q1 y Q3, se mantienen en valores de cero. Esto se puede comprobar al analizar los valores únicos de esta columna, pudiendo observar que el 88% de clientes no poseen una prestación de seguro. \n"
   ]
  },
  {
   "cell_type": "markdown",
   "metadata": {},
   "source": [
    "### Conclusiones\n",
    "\n",
    "1. Al realizar una revisión básica de nuestros datos, no se registraron valores ausentes. \n",
    "2. Se decidió renombrar a las columnas del dataset para mantener un estilo coherente. \n",
    "3. El tipo de dato de la columna `age` se presentaba como tipo float por lo que se realizó su cambio a tipo entero. \n",
    "4. Se realizó un análisis de las estadísticas descriptivas y se encontró que el promedio de edad de los clientes es 30 años, con un mayor porcentaje de hombres que mujeres. Por otro lado, la mayoría de clientes presentan entre 0 a 2 miembros en sus familias, representando cerca del 84% de usuarios. \n",
    "5. Finalmente, el 88% de clientes no han recibido una prestación de seguro. \n"
   ]
  },
  {
   "cell_type": "markdown",
   "metadata": {},
   "source": [
    "## Análisis exploratorio de datos"
   ]
  },
  {
   "cell_type": "markdown",
   "metadata": {},
   "source": [
    "Vamos a comprobar rápidamente si existen determinados grupos de clientes observando el gráfico de pares. También trazaremos un gráfico `heatmap` para poder esclarecer cómo se correlacionan las diferentes características de nuestros datos. "
   ]
  },
  {
   "cell_type": "code",
   "execution_count": 13,
   "metadata": {},
   "outputs": [
    {
     "data": {
      "image/png": "[encoded data removed]",
      "text/plain": [
       "<Figure size 864x864 with 30 Axes>"
      ]
     },
     "metadata": {
      "needs_background": "light"
     },
     "output_type": "display_data"
    }
   ],
   "source": [
    "g = sns.pairplot(df, kind='hist')\n",
    "g.fig.set_size_inches(12, 12)"
   ]
  },
  {
   "cell_type": "code",
   "execution_count": 14,
   "metadata": {},
   "outputs": [
    {
     "data": {
      "image/png": "[encoded data removed]",
      "text/plain": [
       "<Figure size 864x432 with 2 Axes>"
      ]
     },
     "metadata": {
      "needs_background": "light"
     },
     "output_type": "display_data"
    }
   ],
   "source": [
    "plt.figure(figsize=(12, 6))\n",
    "sns.heatmap(df.corr(), annot=True)\n",
    "plt.show()"
   ]
  },
  {
   "cell_type": "markdown",
   "metadata": {},
   "source": [
    "**OBSERVACIONES PRINCIPALES**\n",
    "\n",
    "- Al analizar el gráfico de pares, podemos observar los histogramas de frecuencia para cada columna, ubicados en la diagonal del gráfico, dónde se comprueba el alto número de clientes que no han recibido una prestación de seguro. A su vez, se observa cómo familias con 0 a 2 miembros son las que representan el porcentaje más alto de usuarios. Por otro lado, se verifica la asimetría negativa de los ingresos y una asimetría positiva para la edad, con un mayor número de clientes entre los 18 a 40 años. \n",
    "- `gender`: En el caso de la variable género, no observamos la formación de grupos obvios con otras variables. Esto se confirma con la baja correlación existente entre ambas variables (0.01). Se podría indicar que, para el género 1 o femenino, se registran hasta cinco prestaciones de seguros, mientras que para los hombres no se registra esto. \n",
    "- `age`: En el caso de los ingresos, se puede observar ingresos más altos para clientes de menor edad, pero no hay una agrupación clara de los datos, además de que la correlación negativa es cercana a cero (-0.019). Por otro lado, al analizar la relación entre el número de miembros por familia y la edad, nos encontramos con una correlación baja (-0.0067), y se podría distinguir una tendencia a que mientras más años tenga el cliente, más pequeña será la familia a la que pertenece. Finalmente, la correlación positiva más alta (0.65) se registra entre la edad y el número de prestaciones de seguro, es así que clientes jóvenes reciben menos prestaciones, que aquellos clientes por encima de los 40 años. A mayor edad, es más probable que reciba más beneficios de seguros. \n",
    "- `income`: para el caso de los ingresos no se observan grupos que determinen un patrón específico, además de que las correlaciones son cercanas a cero. \n",
    "- `family_members`: observando el gráfico de pares, se hace evidente que familias más pequeñas de hasta dos miembros, pueden llegar a recibir un mayor número de beneficios de seguro, mientras que para familias más grandes es poco frecuente que reciban más de dos prestaciones. \n",
    "\n",
    "Finalmente, podemos concluir que es un poco complicado detectar grupos obvios (clústeres) ya que es difícil combinar diversas variables simultáneamente (para analizar distribuciones multivariadas). "
   ]
  },
  {
   "cell_type": "markdown",
   "metadata": {},
   "source": [
    "## Tarea 1. Clientes similares"
   ]
  },
  {
   "cell_type": "markdown",
   "metadata": {},
   "source": [
    "En el lenguaje de ML, es necesario desarrollar un procedimiento que devuelva los k vecinos más cercanos (objetos) para un objeto dado basándose en la distancia entre los objetos. Partiendo de esta premisa, estableceremos aquellos clientes más similares en base a las características `gender`, `age`, `income` y `family_members` a través del uso de la distancia Euclideana y la distancia Manhattan, tanto para datos escalados como no escalados. \n",
    "\n",
    "Escribiremos la función `get_knn` que devolverá los k vecinos más cercanos para un $n^{th}$ objeto basándose en una métrica de distancia especificada. Para esto consideraremos las características y distancias previamente planteadas, no se considerará el número de prestaciones de seguro recibidas.\n",
    "\n",
    "Utilizaremos la implementación ya existente del algoritmo kNN `NearestNeighbors` de scikit-learn ([el enlace](https://scikit-learn.org/stable/modules/generated/sklearn.neighbors.NearestNeighbors.html#sklearn.neighbors.NearestNeighbors)). Probaremos la función para cuatro combinaciones de dos casos:\n",
    "\n",
    "- Escalado\n",
    "  - los datos no están escalados\n",
    "  - los datos se escalan con el escalador [MaxAbsScaler](https://scikit-learn.org/stable/modules/generated/sklearn.preprocessing.MaxAbsScaler.html)\n",
    "  \n",
    "- Métricas de distancia\n",
    "  - Euclidiana\n",
    "  - Manhattan\n",
    "\n",
    "Finalmente se responderá las siguientes preguntas\n",
    "\n",
    "- ¿El hecho de que los datos no estén escalados afecta al algoritmo kNN? Si es así, ¿cómo se manifiesta?\n",
    "- ¿Qué tan similares son los resultados al utilizar la métrica de distancia Manhattan (independientemente del escalado)?"
   ]
  },
  {
   "cell_type": "code",
   "execution_count": 15,
   "metadata": {},
   "outputs": [],
   "source": [
    "# Filtramos las características necesarias para establecer kNN\n",
    "feature_names = ['gender', 'age', 'income', 'family_members']"
   ]
  },
  {
   "cell_type": "code",
   "execution_count": 16,
   "metadata": {},
   "outputs": [],
   "source": [
    "def get_knn(df, n, k, metric):\n",
    "    \n",
    "    \"\"\"\n",
    "    Devuelve los k vecinos más cercanos\n",
    "\n",
    "    :param df: DataFrame de pandas utilizado para encontrar objetos similares dentro del mismo lugar    \n",
    "    :param n: número de objetos para los que se buscan los vecinos más cercanos    \n",
    "    :param k: número de vecinos más cercanos a devolver\n",
    "    :param métrica: nombre de la métrica de distancia    \n",
    "    \n",
    "    \"\"\"\n",
    "    # Establecemos nuestro modelo de vecinos más cercanos y lo entrenamos con las características establecidas\n",
    "    nbrs = sklearn.neighbors.NearestNeighbors(n_neighbors=k, metric=metric)\n",
    "    nbrs.fit(df[feature_names].values)\n",
    "    \n",
    "    # Obtenemos las distancias e índices de n número de objetos \n",
    "    nbrs_distances, nbrs_indices = nbrs.kneighbors([df.iloc[n][feature_names]], k, return_distance=True)\n",
    "    \n",
    "    # Creamos un dataframe que nos devolverá los vecinos más cercanos para un determinado objeto\n",
    "    df_res = pd.concat([\n",
    "        df.iloc[nbrs_indices[0]], \n",
    "        pd.DataFrame(nbrs_distances.T, index=nbrs_indices[0], columns=['distance'])\n",
    "        ], axis=1)\n",
    "    \n",
    "    return df_res"
   ]
  },
  {
   "cell_type": "markdown",
   "metadata": {},
   "source": [
    "Escalamos los datos y los guardamos como `df_scaled`."
   ]
  },
  {
   "cell_type": "code",
   "execution_count": 17,
   "metadata": {},
   "outputs": [],
   "source": [
    "feature_names = ['gender', 'age', 'income', 'family_members']\n",
    "\n",
    "transformer_mas = sklearn.preprocessing.MaxAbsScaler().fit(df[feature_names].to_numpy())\n",
    "\n",
    "df_scaled = df.copy()\n",
    "df_scaled.loc[:, feature_names] = transformer_mas.transform(df[feature_names].to_numpy())"
   ]
  },
  {
   "cell_type": "code",
   "execution_count": 18,
   "metadata": {},
   "outputs": [
    {
     "data": {
      "text/html": [
       "<div>\n",
       "<style scoped>\n",
       "    .dataframe tbody tr th:only-of-type {\n",
       "        vertical-align: middle;\n",
       "    }\n",
       "\n",
       "    .dataframe tbody tr th {\n",
       "        vertical-align: top;\n",
       "    }\n",
       "\n",
       "    .dataframe thead th {\n",
       "        text-align: right;\n",
       "    }\n",
       "</style>\n",
       "<table border=\"1\" class=\"dataframe\">\n",
       "  <thead>\n",
       "    <tr style=\"text-align: right;\">\n",
       "      <th></th>\n",
       "      <th>gender</th>\n",
       "      <th>age</th>\n",
       "      <th>income</th>\n",
       "      <th>family_members</th>\n",
       "      <th>insurance_benefits</th>\n",
       "    </tr>\n",
       "  </thead>\n",
       "  <tbody>\n",
       "    <tr>\n",
       "      <th>999</th>\n",
       "      <td>0.0</td>\n",
       "      <td>0.415385</td>\n",
       "      <td>0.321519</td>\n",
       "      <td>0.333333</td>\n",
       "      <td>0</td>\n",
       "    </tr>\n",
       "    <tr>\n",
       "      <th>4287</th>\n",
       "      <td>1.0</td>\n",
       "      <td>0.369231</td>\n",
       "      <td>0.468354</td>\n",
       "      <td>0.333333</td>\n",
       "      <td>0</td>\n",
       "    </tr>\n",
       "    <tr>\n",
       "      <th>2119</th>\n",
       "      <td>1.0</td>\n",
       "      <td>0.369231</td>\n",
       "      <td>0.559494</td>\n",
       "      <td>0.166667</td>\n",
       "      <td>0</td>\n",
       "    </tr>\n",
       "    <tr>\n",
       "      <th>2740</th>\n",
       "      <td>0.0</td>\n",
       "      <td>0.523077</td>\n",
       "      <td>0.443038</td>\n",
       "      <td>0.166667</td>\n",
       "      <td>0</td>\n",
       "    </tr>\n",
       "    <tr>\n",
       "      <th>227</th>\n",
       "      <td>0.0</td>\n",
       "      <td>0.430769</td>\n",
       "      <td>0.687342</td>\n",
       "      <td>0.166667</td>\n",
       "      <td>0</td>\n",
       "    </tr>\n",
       "  </tbody>\n",
       "</table>\n",
       "</div>"
      ],
      "text/plain": [
       "      gender       age    income  family_members  insurance_benefits\n",
       "999      0.0  0.415385  0.321519        0.333333                   0\n",
       "4287     1.0  0.369231  0.468354        0.333333                   0\n",
       "2119     1.0  0.369231  0.559494        0.166667                   0\n",
       "2740     0.0  0.523077  0.443038        0.166667                   0\n",
       "227      0.0  0.430769  0.687342        0.166667                   0"
      ]
     },
     "execution_count": 18,
     "metadata": {},
     "output_type": "execute_result"
    }
   ],
   "source": [
    "df_scaled.sample(5)"
   ]
  },
  {
   "cell_type": "markdown",
   "metadata": {},
   "source": [
    "Ahora, vamos a obtener registros similares para el objeto 250 del dataset, para cada combinación.\n",
    "\n",
    "**DISTANCIA EUCLIDEANA**"
   ]
  },
  {
   "cell_type": "code",
   "execution_count": 19,
   "metadata": {},
   "outputs": [
    {
     "data": {
      "text/html": [
       "<div>\n",
       "<style scoped>\n",
       "    .dataframe tbody tr th:only-of-type {\n",
       "        vertical-align: middle;\n",
       "    }\n",
       "\n",
       "    .dataframe tbody tr th {\n",
       "        vertical-align: top;\n",
       "    }\n",
       "\n",
       "    .dataframe thead th {\n",
       "        text-align: right;\n",
       "    }\n",
       "</style>\n",
       "<table border=\"1\" class=\"dataframe\">\n",
       "  <thead>\n",
       "    <tr style=\"text-align: right;\">\n",
       "      <th></th>\n",
       "      <th>gender</th>\n",
       "      <th>age</th>\n",
       "      <th>income</th>\n",
       "      <th>family_members</th>\n",
       "      <th>insurance_benefits</th>\n",
       "      <th>distance</th>\n",
       "    </tr>\n",
       "  </thead>\n",
       "  <tbody>\n",
       "    <tr>\n",
       "      <th>250</th>\n",
       "      <td>0</td>\n",
       "      <td>26</td>\n",
       "      <td>44700.0</td>\n",
       "      <td>2</td>\n",
       "      <td>0</td>\n",
       "      <td>0.000000</td>\n",
       "    </tr>\n",
       "    <tr>\n",
       "      <th>3682</th>\n",
       "      <td>0</td>\n",
       "      <td>28</td>\n",
       "      <td>44700.0</td>\n",
       "      <td>3</td>\n",
       "      <td>0</td>\n",
       "      <td>2.236068</td>\n",
       "    </tr>\n",
       "    <tr>\n",
       "      <th>172</th>\n",
       "      <td>1</td>\n",
       "      <td>22</td>\n",
       "      <td>44700.0</td>\n",
       "      <td>2</td>\n",
       "      <td>0</td>\n",
       "      <td>4.123106</td>\n",
       "    </tr>\n",
       "    <tr>\n",
       "      <th>4523</th>\n",
       "      <td>0</td>\n",
       "      <td>22</td>\n",
       "      <td>44700.0</td>\n",
       "      <td>0</td>\n",
       "      <td>0</td>\n",
       "      <td>4.472136</td>\n",
       "    </tr>\n",
       "    <tr>\n",
       "      <th>1224</th>\n",
       "      <td>1</td>\n",
       "      <td>22</td>\n",
       "      <td>44700.0</td>\n",
       "      <td>0</td>\n",
       "      <td>0</td>\n",
       "      <td>4.582576</td>\n",
       "    </tr>\n",
       "    <tr>\n",
       "      <th>927</th>\n",
       "      <td>1</td>\n",
       "      <td>21</td>\n",
       "      <td>44700.0</td>\n",
       "      <td>1</td>\n",
       "      <td>0</td>\n",
       "      <td>5.196152</td>\n",
       "    </tr>\n",
       "    <tr>\n",
       "      <th>2350</th>\n",
       "      <td>0</td>\n",
       "      <td>20</td>\n",
       "      <td>44700.0</td>\n",
       "      <td>1</td>\n",
       "      <td>0</td>\n",
       "      <td>6.082763</td>\n",
       "    </tr>\n",
       "    <tr>\n",
       "      <th>432</th>\n",
       "      <td>1</td>\n",
       "      <td>32</td>\n",
       "      <td>44700.0</td>\n",
       "      <td>4</td>\n",
       "      <td>0</td>\n",
       "      <td>6.403124</td>\n",
       "    </tr>\n",
       "    <tr>\n",
       "      <th>3913</th>\n",
       "      <td>1</td>\n",
       "      <td>34</td>\n",
       "      <td>44700.0</td>\n",
       "      <td>3</td>\n",
       "      <td>0</td>\n",
       "      <td>8.124038</td>\n",
       "    </tr>\n",
       "    <tr>\n",
       "      <th>370</th>\n",
       "      <td>1</td>\n",
       "      <td>40</td>\n",
       "      <td>44700.0</td>\n",
       "      <td>1</td>\n",
       "      <td>0</td>\n",
       "      <td>14.071247</td>\n",
       "    </tr>\n",
       "  </tbody>\n",
       "</table>\n",
       "</div>"
      ],
      "text/plain": [
       "      gender  age   income  family_members  insurance_benefits   distance\n",
       "250        0   26  44700.0               2                   0   0.000000\n",
       "3682       0   28  44700.0               3                   0   2.236068\n",
       "172        1   22  44700.0               2                   0   4.123106\n",
       "4523       0   22  44700.0               0                   0   4.472136\n",
       "1224       1   22  44700.0               0                   0   4.582576\n",
       "927        1   21  44700.0               1                   0   5.196152\n",
       "2350       0   20  44700.0               1                   0   6.082763\n",
       "432        1   32  44700.0               4                   0   6.403124\n",
       "3913       1   34  44700.0               3                   0   8.124038\n",
       "370        1   40  44700.0               1                   0  14.071247"
      ]
     },
     "execution_count": 19,
     "metadata": {},
     "output_type": "execute_result"
    }
   ],
   "source": [
    "df_euclidean = get_knn(df, 250, 10, 'euclidean')\n",
    "df_euclidean"
   ]
  },
  {
   "cell_type": "code",
   "execution_count": 20,
   "metadata": {},
   "outputs": [
    {
     "data": {
      "text/html": [
       "<div>\n",
       "<style scoped>\n",
       "    .dataframe tbody tr th:only-of-type {\n",
       "        vertical-align: middle;\n",
       "    }\n",
       "\n",
       "    .dataframe tbody tr th {\n",
       "        vertical-align: top;\n",
       "    }\n",
       "\n",
       "    .dataframe thead th {\n",
       "        text-align: right;\n",
       "    }\n",
       "</style>\n",
       "<table border=\"1\" class=\"dataframe\">\n",
       "  <thead>\n",
       "    <tr style=\"text-align: right;\">\n",
       "      <th></th>\n",
       "      <th>gender</th>\n",
       "      <th>age</th>\n",
       "      <th>income</th>\n",
       "      <th>family_members</th>\n",
       "      <th>insurance_benefits</th>\n",
       "      <th>distance</th>\n",
       "    </tr>\n",
       "  </thead>\n",
       "  <tbody>\n",
       "    <tr>\n",
       "      <th>250</th>\n",
       "      <td>0.0</td>\n",
       "      <td>0.400000</td>\n",
       "      <td>0.565823</td>\n",
       "      <td>0.333333</td>\n",
       "      <td>0</td>\n",
       "      <td>0.000000</td>\n",
       "    </tr>\n",
       "    <tr>\n",
       "      <th>4013</th>\n",
       "      <td>0.0</td>\n",
       "      <td>0.400000</td>\n",
       "      <td>0.564557</td>\n",
       "      <td>0.333333</td>\n",
       "      <td>0</td>\n",
       "      <td>0.001266</td>\n",
       "    </tr>\n",
       "    <tr>\n",
       "      <th>1354</th>\n",
       "      <td>0.0</td>\n",
       "      <td>0.400000</td>\n",
       "      <td>0.558228</td>\n",
       "      <td>0.333333</td>\n",
       "      <td>0</td>\n",
       "      <td>0.007595</td>\n",
       "    </tr>\n",
       "    <tr>\n",
       "      <th>932</th>\n",
       "      <td>0.0</td>\n",
       "      <td>0.400000</td>\n",
       "      <td>0.556962</td>\n",
       "      <td>0.333333</td>\n",
       "      <td>0</td>\n",
       "      <td>0.008861</td>\n",
       "    </tr>\n",
       "    <tr>\n",
       "      <th>881</th>\n",
       "      <td>0.0</td>\n",
       "      <td>0.384615</td>\n",
       "      <td>0.564557</td>\n",
       "      <td>0.333333</td>\n",
       "      <td>0</td>\n",
       "      <td>0.015437</td>\n",
       "    </tr>\n",
       "    <tr>\n",
       "      <th>1064</th>\n",
       "      <td>0.0</td>\n",
       "      <td>0.415385</td>\n",
       "      <td>0.562025</td>\n",
       "      <td>0.333333</td>\n",
       "      <td>0</td>\n",
       "      <td>0.015846</td>\n",
       "    </tr>\n",
       "    <tr>\n",
       "      <th>4152</th>\n",
       "      <td>0.0</td>\n",
       "      <td>0.400000</td>\n",
       "      <td>0.548101</td>\n",
       "      <td>0.333333</td>\n",
       "      <td>0</td>\n",
       "      <td>0.017722</td>\n",
       "    </tr>\n",
       "    <tr>\n",
       "      <th>4335</th>\n",
       "      <td>0.0</td>\n",
       "      <td>0.384615</td>\n",
       "      <td>0.579747</td>\n",
       "      <td>0.333333</td>\n",
       "      <td>0</td>\n",
       "      <td>0.020750</td>\n",
       "    </tr>\n",
       "    <tr>\n",
       "      <th>2686</th>\n",
       "      <td>0.0</td>\n",
       "      <td>0.400000</td>\n",
       "      <td>0.589873</td>\n",
       "      <td>0.333333</td>\n",
       "      <td>0</td>\n",
       "      <td>0.024051</td>\n",
       "    </tr>\n",
       "    <tr>\n",
       "      <th>574</th>\n",
       "      <td>0.0</td>\n",
       "      <td>0.415385</td>\n",
       "      <td>0.546835</td>\n",
       "      <td>0.333333</td>\n",
       "      <td>0</td>\n",
       "      <td>0.024438</td>\n",
       "    </tr>\n",
       "  </tbody>\n",
       "</table>\n",
       "</div>"
      ],
      "text/plain": [
       "      gender       age    income  family_members  insurance_benefits  distance\n",
       "250      0.0  0.400000  0.565823        0.333333                   0  0.000000\n",
       "4013     0.0  0.400000  0.564557        0.333333                   0  0.001266\n",
       "1354     0.0  0.400000  0.558228        0.333333                   0  0.007595\n",
       "932      0.0  0.400000  0.556962        0.333333                   0  0.008861\n",
       "881      0.0  0.384615  0.564557        0.333333                   0  0.015437\n",
       "1064     0.0  0.415385  0.562025        0.333333                   0  0.015846\n",
       "4152     0.0  0.400000  0.548101        0.333333                   0  0.017722\n",
       "4335     0.0  0.384615  0.579747        0.333333                   0  0.020750\n",
       "2686     0.0  0.400000  0.589873        0.333333                   0  0.024051\n",
       "574      0.0  0.415385  0.546835        0.333333                   0  0.024438"
      ]
     },
     "execution_count": 20,
     "metadata": {},
     "output_type": "execute_result"
    }
   ],
   "source": [
    "df_scaled_euclidean = get_knn(df_scaled, 250, 10, 'euclidean')\n",
    "df_scaled_euclidean"
   ]
  },
  {
   "cell_type": "markdown",
   "metadata": {},
   "source": [
    "**DISTANCIA MANHATTAN**"
   ]
  },
  {
   "cell_type": "code",
   "execution_count": 21,
   "metadata": {},
   "outputs": [
    {
     "data": {
      "text/html": [
       "<div>\n",
       "<style scoped>\n",
       "    .dataframe tbody tr th:only-of-type {\n",
       "        vertical-align: middle;\n",
       "    }\n",
       "\n",
       "    .dataframe tbody tr th {\n",
       "        vertical-align: top;\n",
       "    }\n",
       "\n",
       "    .dataframe thead th {\n",
       "        text-align: right;\n",
       "    }\n",
       "</style>\n",
       "<table border=\"1\" class=\"dataframe\">\n",
       "  <thead>\n",
       "    <tr style=\"text-align: right;\">\n",
       "      <th></th>\n",
       "      <th>gender</th>\n",
       "      <th>age</th>\n",
       "      <th>income</th>\n",
       "      <th>family_members</th>\n",
       "      <th>insurance_benefits</th>\n",
       "      <th>distance</th>\n",
       "    </tr>\n",
       "  </thead>\n",
       "  <tbody>\n",
       "    <tr>\n",
       "      <th>250</th>\n",
       "      <td>0</td>\n",
       "      <td>26</td>\n",
       "      <td>44700.0</td>\n",
       "      <td>2</td>\n",
       "      <td>0</td>\n",
       "      <td>0.0</td>\n",
       "    </tr>\n",
       "    <tr>\n",
       "      <th>3682</th>\n",
       "      <td>0</td>\n",
       "      <td>28</td>\n",
       "      <td>44700.0</td>\n",
       "      <td>3</td>\n",
       "      <td>0</td>\n",
       "      <td>3.0</td>\n",
       "    </tr>\n",
       "    <tr>\n",
       "      <th>172</th>\n",
       "      <td>1</td>\n",
       "      <td>22</td>\n",
       "      <td>44700.0</td>\n",
       "      <td>2</td>\n",
       "      <td>0</td>\n",
       "      <td>5.0</td>\n",
       "    </tr>\n",
       "    <tr>\n",
       "      <th>4523</th>\n",
       "      <td>0</td>\n",
       "      <td>22</td>\n",
       "      <td>44700.0</td>\n",
       "      <td>0</td>\n",
       "      <td>0</td>\n",
       "      <td>6.0</td>\n",
       "    </tr>\n",
       "    <tr>\n",
       "      <th>2350</th>\n",
       "      <td>0</td>\n",
       "      <td>20</td>\n",
       "      <td>44700.0</td>\n",
       "      <td>1</td>\n",
       "      <td>0</td>\n",
       "      <td>7.0</td>\n",
       "    </tr>\n",
       "    <tr>\n",
       "      <th>927</th>\n",
       "      <td>1</td>\n",
       "      <td>21</td>\n",
       "      <td>44700.0</td>\n",
       "      <td>1</td>\n",
       "      <td>0</td>\n",
       "      <td>7.0</td>\n",
       "    </tr>\n",
       "    <tr>\n",
       "      <th>1224</th>\n",
       "      <td>1</td>\n",
       "      <td>22</td>\n",
       "      <td>44700.0</td>\n",
       "      <td>0</td>\n",
       "      <td>0</td>\n",
       "      <td>7.0</td>\n",
       "    </tr>\n",
       "    <tr>\n",
       "      <th>432</th>\n",
       "      <td>1</td>\n",
       "      <td>32</td>\n",
       "      <td>44700.0</td>\n",
       "      <td>4</td>\n",
       "      <td>0</td>\n",
       "      <td>9.0</td>\n",
       "    </tr>\n",
       "    <tr>\n",
       "      <th>3913</th>\n",
       "      <td>1</td>\n",
       "      <td>34</td>\n",
       "      <td>44700.0</td>\n",
       "      <td>3</td>\n",
       "      <td>0</td>\n",
       "      <td>10.0</td>\n",
       "    </tr>\n",
       "    <tr>\n",
       "      <th>370</th>\n",
       "      <td>1</td>\n",
       "      <td>40</td>\n",
       "      <td>44700.0</td>\n",
       "      <td>1</td>\n",
       "      <td>0</td>\n",
       "      <td>16.0</td>\n",
       "    </tr>\n",
       "  </tbody>\n",
       "</table>\n",
       "</div>"
      ],
      "text/plain": [
       "      gender  age   income  family_members  insurance_benefits  distance\n",
       "250        0   26  44700.0               2                   0       0.0\n",
       "3682       0   28  44700.0               3                   0       3.0\n",
       "172        1   22  44700.0               2                   0       5.0\n",
       "4523       0   22  44700.0               0                   0       6.0\n",
       "2350       0   20  44700.0               1                   0       7.0\n",
       "927        1   21  44700.0               1                   0       7.0\n",
       "1224       1   22  44700.0               0                   0       7.0\n",
       "432        1   32  44700.0               4                   0       9.0\n",
       "3913       1   34  44700.0               3                   0      10.0\n",
       "370        1   40  44700.0               1                   0      16.0"
      ]
     },
     "execution_count": 21,
     "metadata": {},
     "output_type": "execute_result"
    }
   ],
   "source": [
    "df_manhattan = get_knn(df, 250, 10, 'cityblock')\n",
    "df_manhattan"
   ]
  },
  {
   "cell_type": "code",
   "execution_count": 22,
   "metadata": {},
   "outputs": [
    {
     "data": {
      "text/html": [
       "<div>\n",
       "<style scoped>\n",
       "    .dataframe tbody tr th:only-of-type {\n",
       "        vertical-align: middle;\n",
       "    }\n",
       "\n",
       "    .dataframe tbody tr th {\n",
       "        vertical-align: top;\n",
       "    }\n",
       "\n",
       "    .dataframe thead th {\n",
       "        text-align: right;\n",
       "    }\n",
       "</style>\n",
       "<table border=\"1\" class=\"dataframe\">\n",
       "  <thead>\n",
       "    <tr style=\"text-align: right;\">\n",
       "      <th></th>\n",
       "      <th>gender</th>\n",
       "      <th>age</th>\n",
       "      <th>income</th>\n",
       "      <th>family_members</th>\n",
       "      <th>insurance_benefits</th>\n",
       "      <th>distance</th>\n",
       "    </tr>\n",
       "  </thead>\n",
       "  <tbody>\n",
       "    <tr>\n",
       "      <th>250</th>\n",
       "      <td>0.0</td>\n",
       "      <td>0.400000</td>\n",
       "      <td>0.565823</td>\n",
       "      <td>0.333333</td>\n",
       "      <td>0</td>\n",
       "      <td>0.000000</td>\n",
       "    </tr>\n",
       "    <tr>\n",
       "      <th>4013</th>\n",
       "      <td>0.0</td>\n",
       "      <td>0.400000</td>\n",
       "      <td>0.564557</td>\n",
       "      <td>0.333333</td>\n",
       "      <td>0</td>\n",
       "      <td>0.001266</td>\n",
       "    </tr>\n",
       "    <tr>\n",
       "      <th>1354</th>\n",
       "      <td>0.0</td>\n",
       "      <td>0.400000</td>\n",
       "      <td>0.558228</td>\n",
       "      <td>0.333333</td>\n",
       "      <td>0</td>\n",
       "      <td>0.007595</td>\n",
       "    </tr>\n",
       "    <tr>\n",
       "      <th>932</th>\n",
       "      <td>0.0</td>\n",
       "      <td>0.400000</td>\n",
       "      <td>0.556962</td>\n",
       "      <td>0.333333</td>\n",
       "      <td>0</td>\n",
       "      <td>0.008861</td>\n",
       "    </tr>\n",
       "    <tr>\n",
       "      <th>881</th>\n",
       "      <td>0.0</td>\n",
       "      <td>0.384615</td>\n",
       "      <td>0.564557</td>\n",
       "      <td>0.333333</td>\n",
       "      <td>0</td>\n",
       "      <td>0.016650</td>\n",
       "    </tr>\n",
       "    <tr>\n",
       "      <th>4152</th>\n",
       "      <td>0.0</td>\n",
       "      <td>0.400000</td>\n",
       "      <td>0.548101</td>\n",
       "      <td>0.333333</td>\n",
       "      <td>0</td>\n",
       "      <td>0.017722</td>\n",
       "    </tr>\n",
       "    <tr>\n",
       "      <th>1064</th>\n",
       "      <td>0.0</td>\n",
       "      <td>0.415385</td>\n",
       "      <td>0.562025</td>\n",
       "      <td>0.333333</td>\n",
       "      <td>0</td>\n",
       "      <td>0.019182</td>\n",
       "    </tr>\n",
       "    <tr>\n",
       "      <th>2686</th>\n",
       "      <td>0.0</td>\n",
       "      <td>0.400000</td>\n",
       "      <td>0.589873</td>\n",
       "      <td>0.333333</td>\n",
       "      <td>0</td>\n",
       "      <td>0.024051</td>\n",
       "    </tr>\n",
       "    <tr>\n",
       "      <th>4335</th>\n",
       "      <td>0.0</td>\n",
       "      <td>0.384615</td>\n",
       "      <td>0.579747</td>\n",
       "      <td>0.333333</td>\n",
       "      <td>0</td>\n",
       "      <td>0.029309</td>\n",
       "    </tr>\n",
       "    <tr>\n",
       "      <th>4482</th>\n",
       "      <td>0.0</td>\n",
       "      <td>0.400000</td>\n",
       "      <td>0.597468</td>\n",
       "      <td>0.333333</td>\n",
       "      <td>0</td>\n",
       "      <td>0.031646</td>\n",
       "    </tr>\n",
       "  </tbody>\n",
       "</table>\n",
       "</div>"
      ],
      "text/plain": [
       "      gender       age    income  family_members  insurance_benefits  distance\n",
       "250      0.0  0.400000  0.565823        0.333333                   0  0.000000\n",
       "4013     0.0  0.400000  0.564557        0.333333                   0  0.001266\n",
       "1354     0.0  0.400000  0.558228        0.333333                   0  0.007595\n",
       "932      0.0  0.400000  0.556962        0.333333                   0  0.008861\n",
       "881      0.0  0.384615  0.564557        0.333333                   0  0.016650\n",
       "4152     0.0  0.400000  0.548101        0.333333                   0  0.017722\n",
       "1064     0.0  0.415385  0.562025        0.333333                   0  0.019182\n",
       "2686     0.0  0.400000  0.589873        0.333333                   0  0.024051\n",
       "4335     0.0  0.384615  0.579747        0.333333                   0  0.029309\n",
       "4482     0.0  0.400000  0.597468        0.333333                   0  0.031646"
      ]
     },
     "execution_count": 22,
     "metadata": {},
     "output_type": "execute_result"
    }
   ],
   "source": [
    "df_scaled_manhattan = get_knn(df_scaled, 250, 10, 'cityblock')\n",
    "df_scaled_manhattan"
   ]
  },
  {
   "cell_type": "markdown",
   "metadata": {},
   "source": [
    "Construimos un dataframe con la lista de índices de clientes más similares al cliente 250, para poder establecer las diferencias entre las dos distancias utilizadas. "
   ]
  },
  {
   "cell_type": "code",
   "execution_count": 23,
   "metadata": {},
   "outputs": [
    {
     "data": {
      "text/html": [
       "<div>\n",
       "<style scoped>\n",
       "    .dataframe tbody tr th:only-of-type {\n",
       "        vertical-align: middle;\n",
       "    }\n",
       "\n",
       "    .dataframe tbody tr th {\n",
       "        vertical-align: top;\n",
       "    }\n",
       "\n",
       "    .dataframe thead th {\n",
       "        text-align: right;\n",
       "    }\n",
       "</style>\n",
       "<table border=\"1\" class=\"dataframe\">\n",
       "  <thead>\n",
       "    <tr style=\"text-align: right;\">\n",
       "      <th></th>\n",
       "      <th>df_euclidean</th>\n",
       "      <th>df_manhattan</th>\n",
       "      <th>df_scaled_euclidean</th>\n",
       "      <th>df_scaled_manhattan</th>\n",
       "    </tr>\n",
       "  </thead>\n",
       "  <tbody>\n",
       "    <tr>\n",
       "      <th>0</th>\n",
       "      <td>250</td>\n",
       "      <td>250</td>\n",
       "      <td>250</td>\n",
       "      <td>250</td>\n",
       "    </tr>\n",
       "    <tr>\n",
       "      <th>1</th>\n",
       "      <td>3682</td>\n",
       "      <td>3682</td>\n",
       "      <td>4013</td>\n",
       "      <td>4013</td>\n",
       "    </tr>\n",
       "    <tr>\n",
       "      <th>2</th>\n",
       "      <td>172</td>\n",
       "      <td>172</td>\n",
       "      <td>1354</td>\n",
       "      <td>1354</td>\n",
       "    </tr>\n",
       "    <tr>\n",
       "      <th>3</th>\n",
       "      <td>4523</td>\n",
       "      <td>4523</td>\n",
       "      <td>932</td>\n",
       "      <td>932</td>\n",
       "    </tr>\n",
       "    <tr>\n",
       "      <th>4</th>\n",
       "      <td>1224</td>\n",
       "      <td>2350</td>\n",
       "      <td>881</td>\n",
       "      <td>881</td>\n",
       "    </tr>\n",
       "    <tr>\n",
       "      <th>5</th>\n",
       "      <td>927</td>\n",
       "      <td>927</td>\n",
       "      <td>1064</td>\n",
       "      <td>4152</td>\n",
       "    </tr>\n",
       "    <tr>\n",
       "      <th>6</th>\n",
       "      <td>2350</td>\n",
       "      <td>1224</td>\n",
       "      <td>4152</td>\n",
       "      <td>1064</td>\n",
       "    </tr>\n",
       "    <tr>\n",
       "      <th>7</th>\n",
       "      <td>432</td>\n",
       "      <td>432</td>\n",
       "      <td>4335</td>\n",
       "      <td>2686</td>\n",
       "    </tr>\n",
       "    <tr>\n",
       "      <th>8</th>\n",
       "      <td>3913</td>\n",
       "      <td>3913</td>\n",
       "      <td>2686</td>\n",
       "      <td>4335</td>\n",
       "    </tr>\n",
       "    <tr>\n",
       "      <th>9</th>\n",
       "      <td>370</td>\n",
       "      <td>370</td>\n",
       "      <td>574</td>\n",
       "      <td>4482</td>\n",
       "    </tr>\n",
       "  </tbody>\n",
       "</table>\n",
       "</div>"
      ],
      "text/plain": [
       "   df_euclidean  df_manhattan  df_scaled_euclidean  df_scaled_manhattan\n",
       "0           250           250                  250                  250\n",
       "1          3682          3682                 4013                 4013\n",
       "2           172           172                 1354                 1354\n",
       "3          4523          4523                  932                  932\n",
       "4          1224          2350                  881                  881\n",
       "5           927           927                 1064                 4152\n",
       "6          2350          1224                 4152                 1064\n",
       "7           432           432                 4335                 2686\n",
       "8          3913          3913                 2686                 4335\n",
       "9           370           370                  574                 4482"
      ]
     },
     "execution_count": 23,
     "metadata": {},
     "output_type": "execute_result"
    }
   ],
   "source": [
    "list_index = pd.DataFrame({\n",
    "    'df_euclidean': df_euclidean.index,\n",
    "    'df_manhattan': df_manhattan.index,\n",
    "    'df_scaled_euclidean': df_scaled_euclidean.index,\n",
    "    'df_scaled_manhattan': df_scaled_manhattan.index   \n",
    "})\n",
    "\n",
    "list_index"
   ]
  },
  {
   "cell_type": "markdown",
   "metadata": {},
   "source": [
    "Respondemos a las preguntas planteadas."
   ]
  },
  {
   "cell_type": "markdown",
   "metadata": {},
   "source": [
    "**¿El hecho de que los datos no estén escalados afecta al algoritmo kNN? Si es así, ¿cómo se manifiesta?** \n",
    "\n",
    "El hecho de que los datos no estén escalados evidentemente afecta al algoritmo kNN, esto se manifiesta a través de distancias más grandes para el conjunto de datos no escalado, mientras que al escalar, las distancias son más cortas. Esto se debe a que al no realizar una estandarización, se realiza una ponderación exagerada y ciertas características como la edad o el ingreso van a tener un mayor peso al presentar valores más altos, de hasta 65 en edad y 79000 en ingresos. \n",
    "\n",
    "También se puede observar cambios en la lista de clientes más similares al objeto establecido. Estos son idénticos para ambas distancias sin escalar, mientras que al no escalar los datos, obtenemos un grupo de clientes completamente diferente. Por ejemplo, el cliente más similar sin escalar, con índice 3682, presenta tres miembros de familia, lo cual contrasta con el cliente seleccionado 250, que registra solo dos miembros. A su vez, podemos observar clientes de géneros diferentes o con un mayor diferencia de edad. Al estandarizar los datos controlamos estas diferencias en escalas, y por tanto obtenemos una nueva lista de clientes similares."
   ]
  },
  {
   "cell_type": "markdown",
   "metadata": {},
   "source": [
    "**¿Qué tan similares son los resultados al utilizar la métrica de distancia Manhattan (independientemente del escalado)?** \n",
    "\n",
    "Si analizamos la lista de índices obtenidos y comparamos los resultados de cada distancia independientemente del escalado, vamos a observar que en el caso de los datos no estandarizados, obtenemos una lista más o menos similar de clientes, con ligeros cambios en el orden o en la distancia que presentan. Por ejemplo, el cliente con índice 1224, es el cuarto más cercano en la distancia euclideana, mientras que para la distancia manhattan este cliente es el sexto más similar. A su vez, al fijarnos solo en nuestros datos estandarizados, nos encontramos con ciertos cambios a partir del cuarto cliente más cercano. Es así que el cliente 4152 es el sexto más cercano en la distancia euclidiana, mientras que es el quinto para la distancia manhattan. También observamos clientes que no comparten ambas listas, como los usuarios 574 y 4482. \n",
    "\n",
    "Pudiendo establecer que los resultados son similares entre ambas métricas, sin embargo se generan algunos cambios debido a que cómo se calcula cada distanca. Para calcular la distancia euclideana utilizamos el valor de la hipotenusa o la distancia más corta entre dos puntos en un plano, mientras que para la distancia manhattan utilizamos la suma de los valores absolutos de catetos. Por lo tanto, la distancia Manhattan siempre presentará valores mayores, ya que la suma de catetos siempre será mayor a la hipotenusa. "
   ]
  },
  {
   "cell_type": "markdown",
   "metadata": {},
   "source": [
    "## Tarea 2. ¿Es probable que el cliente reciba una prestación del seguro?"
   ]
  },
  {
   "cell_type": "markdown",
   "metadata": {},
   "source": [
    "En términos de machine learning podemos considerarlo este modelo como una tarea de clasificación binaria. Por lo tanto, será necesario transformar el número de beneficios del seguro en característica categórica. Para esto tendremos que transformar las prestaciones máyores a 0 en una sola categoría, en este caso será 1, y posteriormente construir un clasificador basado en kNN, cuya calidad será medida con la métrica F1."
   ]
  },
  {
   "cell_type": "markdown",
   "metadata": {},
   "source": [
    "Empezaremos estableciendo el valor de `insurance_benefits` superior a cero como objetivo, y evaluaremos si el enfoque de clasificación kNN puede funcionar mejor que el modelo dummy. Realizaremos lo siguiente:\n",
    "\n",
    "- Construiremos un clasificador basado en KNN y mediremos su calidad con la métrica F1 para k=1...10 tanto para los datos originales como para los escalados. Queremos observar cómo k puede influir en la métrica de evaluación y si el escalado de los datos provoca alguna diferencia. Utilizaremos una implementación ya existente del algoritmo de clasificación kNN de scikit-learn ([el enlace](https://scikit-learn.org/stable/modules/generated/sklearn.neighbors.KNeighborsClassifier.html)).\n",
    "- Construiremos un modelo dummy que, en este caso, es simplemente un modelo aleatorio. Debería devolver \"1\" con cierta probabilidad. Probemos el modelo con cuatro valores de probabilidad: 0, la probabilidad de pagar cualquier prestación del seguro, 0.5, 1.\n",
    "\n",
    "La probabilidad de pagar cualquier prestación del seguro puede definirse como:\n",
    "\n",
    "$$\n",
    "P\\{\\text{prestación de seguro recibida}\\}=\\frac{\\text{número de clientes que han recibido alguna prestación de seguro}}{\\text{número total de clientes}}.\n",
    "$$\n",
    "\n",
    "Dividiremos todos los datos correspondientes a las etapas de entrenamiento/prueba respetando la proporción 70:30."
   ]
  },
  {
   "cell_type": "code",
   "execution_count": 24,
   "metadata": {},
   "outputs": [],
   "source": [
    "# Calculamos el objetivo \n",
    "df['insurance_benefits_received'] = df['insurance_benefits'].where(df_scaled['insurance_benefits'] == 0, 1)\n",
    "\n",
    "df_scaled['insurance_benefits_received'] = df_scaled['insurance_benefits'].where(df_scaled['insurance_benefits'] == 0, 1)"
   ]
  },
  {
   "cell_type": "code",
   "execution_count": 25,
   "metadata": {},
   "outputs": [
    {
     "data": {
      "text/plain": [
       "0    0.8872\n",
       "1    0.1128\n",
       "Name: insurance_benefits_received, dtype: float64"
      ]
     },
     "execution_count": 25,
     "metadata": {},
     "output_type": "execute_result"
    }
   ],
   "source": [
    "# Comprobamos el desequilibrio de clases para datos sin escalar con value_counts()\n",
    "df['insurance_benefits_received'].value_counts(normalize=True)"
   ]
  },
  {
   "cell_type": "code",
   "execution_count": 26,
   "metadata": {},
   "outputs": [
    {
     "data": {
      "text/plain": [
       "0    0.8872\n",
       "1    0.1128\n",
       "Name: insurance_benefits_received, dtype: float64"
      ]
     },
     "execution_count": 26,
     "metadata": {},
     "output_type": "execute_result"
    }
   ],
   "source": [
    "# Comprobamos el desequilibrio de clases para datos escalados con value_counts()\n",
    "df_scaled['insurance_benefits_received'].value_counts(normalize=True)"
   ]
  },
  {
   "cell_type": "code",
   "execution_count": 27,
   "metadata": {},
   "outputs": [
    {
     "name": "stdout",
     "output_type": "stream",
     "text": [
      "Tamaño conjunto entrenamiento: (3500, 4) (3500,)\n",
      "Tamaño conjunto prueba: (1500, 4) (1500,)\n"
     ]
    }
   ],
   "source": [
    "# Establecemos las características y objetivos para el dataset no escalado\n",
    "features = df.drop(['insurance_benefits_received', 'insurance_benefits'], axis=1)\n",
    "target = df['insurance_benefits_received']\n",
    "\n",
    "# Dividimos los datos en un dataset de entrenamiento y prueba (propoción 70:30)\n",
    "features_train, features_test, target_train, target_test = train_test_split(features,\n",
    "                                                                             target, \n",
    "                                                                             test_size=0.30,\n",
    "                                                                             random_state=12345)\n",
    "\n",
    "# Comprobamos que la división se realizó correctamente, llamando a shape\n",
    "print('Tamaño conjunto entrenamiento:', features_train.shape, target_train.shape)\n",
    "print('Tamaño conjunto prueba:', features_test.shape, target_test.shape)"
   ]
  },
  {
   "cell_type": "code",
   "execution_count": 28,
   "metadata": {},
   "outputs": [
    {
     "name": "stdout",
     "output_type": "stream",
     "text": [
      "Tamaño conjunto entrenamiento escalado: (3500, 4) (3500,)\n",
      "Tamaño conjunto prueba escalado: (1500, 4) (1500,)\n"
     ]
    }
   ],
   "source": [
    "# Establecemos las características y objetivos para el dataset escalado 'df_scaled'\n",
    "features_scaled = df_scaled.drop(['insurance_benefits_received', 'insurance_benefits'], axis=1)\n",
    "target_scaled = df_scaled['insurance_benefits_received']\n",
    "\n",
    "# Dividimos los datos en un dataset de entrenamiento y prueba (propoción 70:30)\n",
    "features_train_sc, features_test_sc, target_train_sc, target_test_sc = train_test_split(features_scaled,\n",
    "                                                                             target_scaled, \n",
    "                                                                             test_size=0.30,\n",
    "                                                                             random_state=12345)\n",
    "\n",
    "# Comprobamos que la división se realizó correctamente, llamando a shape\n",
    "print('Tamaño conjunto entrenamiento escalado:', features_train_sc.shape, target_train_sc.shape)\n",
    "print('Tamaño conjunto prueba escalado:', features_test_sc.shape, target_test_sc.shape)"
   ]
  },
  {
   "cell_type": "code",
   "execution_count": 29,
   "metadata": {},
   "outputs": [],
   "source": [
    "def eval_classifier(y_true, y_pred):\n",
    "    \n",
    "    \"\"\"\n",
    "    Devuelve el puntaje F1 y la matriz de confusión a partir de un objetivo y sus predicciones\n",
    "\n",
    "    :param y_true: valores objetivo     \n",
    "    :param y_pred: valores de predicciones obtenidas al entrenar un modelo     \n",
    "    \n",
    "    \"\"\"\n",
    "    \n",
    "    # Llamamos al puntaje F1 del módulo metrics\n",
    "    f1_score = sklearn.metrics.f1_score(y_true, y_pred)\n",
    "    print(f'F1: {f1_score:.2f}')\n",
    "    \n",
    "    # Construimos una matriz de confusión    \n",
    "    cm = sklearn.metrics.confusion_matrix(y_true, y_pred, normalize='all')\n",
    "    print('Matriz de confusión')\n",
    "    print(cm)"
   ]
  },
  {
   "cell_type": "code",
   "execution_count": 30,
   "metadata": {},
   "outputs": [],
   "source": [
    "# Generamos la salida de un modelo aleatorio\n",
    "def rnd_model_predict(P, size, seed=42):\n",
    "         \n",
    "    \"\"\"\n",
    "    Devuelve la probabilidad de un modelo aleatorio\n",
    "\n",
    "    :param P: probabilidad    \n",
    "    :param size: tamaño del dataset\n",
    "    :param seed: establecemos una semilla para que los resultados sean reproducibles\n",
    "    \n",
    "    \"\"\"\n",
    "    rng = np.random.default_rng(seed=seed)\n",
    "    return rng.binomial(n=1, p=P, size=size)"
   ]
  },
  {
   "cell_type": "code",
   "execution_count": 31,
   "metadata": {},
   "outputs": [
    {
     "name": "stdout",
     "output_type": "stream",
     "text": [
      "La probabilidad: 0.00\n",
      "F1: 0.00\n",
      "Matriz de confusión\n",
      "[[0.8872 0.    ]\n",
      " [0.1128 0.    ]]\n",
      "\n",
      "La probabilidad: 0.11\n",
      "F1: 0.12\n",
      "Matriz de confusión\n",
      "[[0.7914 0.0958]\n",
      " [0.0994 0.0134]]\n",
      "\n",
      "La probabilidad: 0.50\n",
      "F1: 0.20\n",
      "Matriz de confusión\n",
      "[[0.456  0.4312]\n",
      " [0.053  0.0598]]\n",
      "\n",
      "La probabilidad: 1.00\n",
      "F1: 0.20\n",
      "Matriz de confusión\n",
      "[[0.     0.8872]\n",
      " [0.     0.1128]]\n",
      "\n"
     ]
    }
   ],
   "source": [
    "# Obtenemos el puntaje F1 y matriz de confusión para cada probabilidad: 0, probabilidad de pagar una prestación, 0.5 y 1 \n",
    "for P in [0, df['insurance_benefits_received'].sum() / len(df), 0.5, 1]:\n",
    "\n",
    "    print(f'La probabilidad: {P:.2f}')\n",
    "    y_pred_rnd = rnd_model_predict(P, len(df), seed=42)\n",
    "        \n",
    "    eval_classifier(df['insurance_benefits_received'], y_pred_rnd)\n",
    "    \n",
    "    print()"
   ]
  },
  {
   "cell_type": "code",
   "execution_count": 32,
   "metadata": {},
   "outputs": [
    {
     "name": "stdout",
     "output_type": "stream",
     "text": [
      "K_neighbors:1\n",
      "F1: 0.61\n",
      "Matriz de confusión\n",
      "[[0.87       0.02133333]\n",
      " [0.052      0.05666667]]\n",
      "\n",
      "K_neighbors:2\n",
      "F1: 0.41\n",
      "Matriz de confusión\n",
      "[[0.88733333 0.004     ]\n",
      " [0.08       0.02866667]]\n",
      "\n",
      "K_neighbors:3\n",
      "F1: 0.41\n",
      "Matriz de confusión\n",
      "[[0.88       0.01133333]\n",
      " [0.078      0.03066667]]\n",
      "\n",
      "K_neighbors:4\n",
      "F1: 0.28\n",
      "Matriz de confusión\n",
      "[[0.88866667 0.00266667]\n",
      " [0.09066667 0.018     ]]\n",
      "\n",
      "K_neighbors:5\n",
      "F1: 0.27\n",
      "Matriz de confusión\n",
      "[[0.88533333 0.006     ]\n",
      " [0.09066667 0.018     ]]\n",
      "\n",
      "K_neighbors:6\n",
      "F1: 0.11\n",
      "Matriz de confusión\n",
      "[[0.89       0.00133333]\n",
      " [0.102      0.00666667]]\n",
      "\n",
      "K_neighbors:7\n",
      "F1: 0.11\n",
      "Matriz de confusión\n",
      "[[0.88866667 0.00266667]\n",
      " [0.102      0.00666667]]\n",
      "\n",
      "K_neighbors:8\n",
      "F1: 0.07\n",
      "Matriz de confusión\n",
      "[[0.89133333 0.        ]\n",
      " [0.10466667 0.004     ]]\n",
      "\n",
      "K_neighbors:9\n",
      "F1: 0.08\n",
      "Matriz de confusión\n",
      "[[0.89133333 0.        ]\n",
      " [0.104      0.00466667]]\n",
      "\n",
      "K_neighbors:10\n",
      "F1: 0.00\n",
      "Matriz de confusión\n",
      "[[0.89133333 0.        ]\n",
      " [0.10866667 0.        ]]\n",
      "\n"
     ]
    }
   ],
   "source": [
    "# Construimos un bucle for para obtener el puntaje F1 para el dataset sin escalar\n",
    "for k in range(1, 11):\n",
    "    \n",
    "    neigh = sklearn.neighbors.KNeighborsClassifier(n_neighbors=k)\n",
    "    neigh.fit(features_train, target_train)\n",
    "    predictions = neigh.predict(features_test)\n",
    "    \n",
    "    print(f'K_neighbors:{k}')\n",
    "    eval_classifier(target_test, predictions)\n",
    "    \n",
    "    print()"
   ]
  },
  {
   "cell_type": "code",
   "execution_count": 33,
   "metadata": {},
   "outputs": [
    {
     "name": "stdout",
     "output_type": "stream",
     "text": [
      "K_neighbors:1\n",
      "F1: 0.97\n",
      "Matriz de confusión\n",
      "[[0.88866667 0.00266667]\n",
      " [0.00466667 0.104     ]]\n",
      "\n",
      "K_neighbors:2\n",
      "F1: 0.93\n",
      "Matriz de confusión\n",
      "[[8.90666667e-01 6.66666667e-04]\n",
      " [1.40000000e-02 9.46666667e-02]]\n",
      "\n",
      "K_neighbors:3\n",
      "F1: 0.95\n",
      "Matriz de confusión\n",
      "[[0.88933333 0.002     ]\n",
      " [0.00866667 0.1       ]]\n",
      "\n",
      "K_neighbors:4\n",
      "F1: 0.91\n",
      "Matriz de confusión\n",
      "[[0.88933333 0.002     ]\n",
      " [0.01666667 0.092     ]]\n",
      "\n",
      "K_neighbors:5\n",
      "F1: 0.92\n",
      "Matriz de confusión\n",
      "[[0.88666667 0.00466667]\n",
      " [0.01133333 0.09733333]]\n",
      "\n",
      "K_neighbors:6\n",
      "F1: 0.90\n",
      "Matriz de confusión\n",
      "[[0.89       0.00133333]\n",
      " [0.018      0.09066667]]\n",
      "\n",
      "K_neighbors:7\n",
      "F1: 0.92\n",
      "Matriz de confusión\n",
      "[[0.88733333 0.004     ]\n",
      " [0.01266667 0.096     ]]\n",
      "\n",
      "K_neighbors:8\n",
      "F1: 0.90\n",
      "Matriz de confusión\n",
      "[[0.88866667 0.00266667]\n",
      " [0.01733333 0.09133333]]\n",
      "\n",
      "K_neighbors:9\n",
      "F1: 0.92\n",
      "Matriz de confusión\n",
      "[[0.88866667 0.00266667]\n",
      " [0.01466667 0.094     ]]\n",
      "\n",
      "K_neighbors:10\n",
      "F1: 0.88\n",
      "Matriz de confusión\n",
      "[[0.88866667 0.00266667]\n",
      " [0.02133333 0.08733333]]\n",
      "\n"
     ]
    }
   ],
   "source": [
    "# Construimos un bucle for para obtener el puntaje F1 para el dataset escalado\n",
    "for k in range(1, 11):\n",
    "    \n",
    "    neigh = sklearn.neighbors.KNeighborsClassifier(n_neighbors=k)\n",
    "    neigh.fit(features_train_sc, target_train_sc)\n",
    "    predictions_sc = neigh.predict(features_test_sc)\n",
    "    \n",
    "    print(f'K_neighbors:{k}')\n",
    "    eval_classifier(target_test_sc, predictions_sc)\n",
    "    \n",
    "    print()"
   ]
  },
  {
   "cell_type": "markdown",
   "metadata": {},
   "source": [
    "En base a los resultados obtenidos al construir un modelo de kNN clasificatorio que prediga si un cliente recibirá o no una prestación de seguro, podemos observar que tanto el número de vecinos más cercanos como la estandarización de datos, influyen en las predicciones realizadas. Es así que, para el número de vecino más cercanos, a medida que incrementa este valor, disminuye el puntaje F1, es decir a más vecinos es menor la precisión y sensibilidad de nuestro modelo. Por esto, podemos observar que el puntaje F1 más alto obtenido para los datos estandarizados es de 0.97 pero con un k=1, mientras que para los datos no estandarizados, el puntaje más alto es de 0.61, pero igualmente con un valor k=1. A medida que incrementan los valores de K, el valor F1 disminuye hasta incluso alcanzar un valor de cero, para nuestro dataset no escalado con k=10.\n",
    "\n",
    "Así mismo, se puede observar que la estandarización de datos, es un factor importante que influye en el rendimiento del modelo y por tanto en nuestra métrica F1. Pudiendo determinar que la no estandarización de datos va a disminuir el puntaje F1 de nuestro modelo, alcanzado un valor máximo de 0.61, mientras que al escalar nuestros datos, el puntaje llega hasta 0.97. Esto, como se mencionó anteriormente, estaría relacionado directamente con que los datos no estandarizados, los modelos tienden a dar una mayor importancia a ciertas características que presentan valores más altos, en este caso la edad y los ingresos de cada clientes, estarían influenciado la calidad del modelo. \n",
    "\n",
    "Si consideramos que un modelo aleatorio o dummy que predice que todos los clientes recibirán una prestación de seguro, obtuvo un puntaje F1 de 0.20, mientras que un modelo que predice que ningún cliente recibirá una prestación resultó en un F1 de cero. Podemos establecer que nuestro mejor modelo clasificatorio es aquel de puntaje F1=0.97, k=1 y con datos estandarizados, ya que se encuentra por encima de un modelo constante que predice solo uno. Este modelo es mucho mejor que la aleatoriedad, ya que presenta una proporción más alta de verdaderos positivos y verdaderos negativos, y por otro lado, los falsos positivos y falsos negativos disminuyen. "
   ]
  },
  {
   "cell_type": "markdown",
   "metadata": {},
   "source": [
    "## Tarea 3. Regresión (con regresión lineal)"
   ]
  },
  {
   "cell_type": "markdown",
   "metadata": {},
   "source": [
    "Definido nuestro modelo de clasificación binaria, ahora establecermos `insurance_benefits` como nuestro objetivo, y evaluaremos cuál sería la RECM de un modelo de regresión lineal."
   ]
  },
  {
   "cell_type": "markdown",
   "metadata": {},
   "source": [
    "Construiremos nuestra propia implementación de regresión lineal. Para ello, recordaremos cómo está formulada la solución de la tarea de regresión lineal en términos de álgebra lineal. Comprobaremos la RECM tanto para los datos originales como para los escalados, y estableceremos si existe alguna diferencia en la RECM con respecto a estos dos casos.\n",
    "\n",
    "Denotemos- $X$: matriz de características; cada fila es un caso, cada columna es una característica, la primera columna está formada por unidades- $y$ — objetivo (un vector)- $\\hat{y}$ — objetivo estimado (un vector)- $w$ — vector de peso. \n",
    "\n",
    "La tarea de regresión lineal en el lenguaje de las matrices puede formularse así:\n",
    "$$\n",
    "y = Xw\n",
    "$$\n",
    "\n",
    "El objetivo de entrenamiento es entonces encontrar esa $w$ w que minimice la distancia L2 (ECM) entre $Xw$ y $y$:\n",
    "\n",
    "$$\n",
    "\\min_w d_2(Xw, y) \\quad \\text{or} \\quad \\min_w \\text{MSE}(Xw, y)\n",
    "$$\n",
    "\n",
    "Parece que hay una solución analítica para lo anteriormente expuesto:\n",
    "$$\n",
    "w = (X^T X)^{-1} X^T y\n",
    "$$\n",
    "\n",
    "La fórmula anterior puede servir para encontrar los pesos $w$ y estos últimos pueden utilizarse para calcular los valores predichos\n",
    "$$\n",
    "\\hat{y} = X_{val}w\n",
    "$$"
   ]
  },
  {
   "cell_type": "markdown",
   "metadata": {},
   "source": [
    "Dividimos todos los datos correspondientes a las etapas de entrenamiento/prueba respetando la proporción 70:30. Utilizaremos la métrica RECM para evaluar el modelo."
   ]
  },
  {
   "cell_type": "code",
   "execution_count": 34,
   "metadata": {},
   "outputs": [],
   "source": [
    "# Implementamos la clase de regresión lineal\n",
    "class MyLinearRegression:\n",
    "    \n",
    "    def __init__(self):\n",
    "        \n",
    "        self.weights = None\n",
    "    \n",
    "    def fit(self, X, y):\n",
    "        \n",
    "        # añadir las unidades\n",
    "        X2 = np.append(np.ones([len(X), 1]), X, axis=1)\n",
    "        \n",
    "        # calculamos los pesos\n",
    "        self.weights = np.linalg.inv(X2.T.dot(X2)).dot(X2.T).dot(y)\n",
    "\n",
    "    def predict(self, X):\n",
    "        \n",
    "        # añadir las unidades\n",
    "        X2 = np.append(np.ones([len(X), 1]), X, axis=1)\n",
    "        \n",
    "        # calculamos los valores predichos\n",
    "        y_pred = np.dot(X2, self.weights)\n",
    "        \n",
    "        return y_pred"
   ]
  },
  {
   "cell_type": "code",
   "execution_count": 35,
   "metadata": {},
   "outputs": [],
   "source": [
    "def eval_regressor(y_true, y_pred):\n",
    "    \n",
    "    \"\"\"\n",
    "    Devuelve el valor RECM y el coeficiente de determinación R2\n",
    "\n",
    "    :param y_true: valores objetivo   \n",
    "    :param y_pred: valores de predicciones obtenidas al entrenar un modelo \n",
    "    \n",
    "    \"\"\"\n",
    "    \n",
    "    rmse = math.sqrt(sklearn.metrics.mean_squared_error(y_true, y_pred))\n",
    "    print(f'RMSE: {rmse:.2f}')\n",
    "    \n",
    "    r2_score = math.sqrt(sklearn.metrics.r2_score(y_true, y_pred))\n",
    "    print(f'R2: {r2_score:.2f}')    "
   ]
  },
  {
   "cell_type": "markdown",
   "metadata": {},
   "source": [
    "Una vez implementada nuestra clase MyLinearRegression y creada la función `eval_regressor`, vamos a entrenar nuestro modelo tanto con nuestro dataset original como con nuestro dataset escalado, y evaluaremos las predicciones de cada modelo en base a las métricas RECM y R2.\n",
    "\n",
    "**DATOS ORIGINALES**"
   ]
  },
  {
   "cell_type": "code",
   "execution_count": 36,
   "metadata": {},
   "outputs": [
    {
     "name": "stdout",
     "output_type": "stream",
     "text": [
      "[-9.43539012e-01  3.57495491e-02  1.64272726e-02 -2.60743659e-07\n",
      " -1.16902127e-02]\n",
      "RMSE: 0.34\n",
      "R2: 0.66\n"
     ]
    }
   ],
   "source": [
    "# Establecemos las características X y objetivo y de nuestro dataset original sin escalar\n",
    "X = df[['age', 'gender', 'income', 'family_members']].to_numpy()\n",
    "y = df['insurance_benefits'].to_numpy()\n",
    "\n",
    "# Dividimos en conjuntos de datos de entrenamiento y prueba\n",
    "X_train, X_test, y_train, y_test = train_test_split(X, y, test_size=0.3, random_state=12345)\n",
    "\n",
    "# Establecemos nuestro modelo y lo entrenamos con el conjunto de entrenamiento\n",
    "lr = MyLinearRegression()\n",
    "lr.fit(X_train, y_train)\n",
    "\n",
    "# Imprimimos los pesos \n",
    "print(lr.weights)\n",
    "\n",
    "# Realizamos las predicciones en el conjunto de prueba y obtenemos las métricas\n",
    "y_test_pred = lr.predict(X_test)\n",
    "eval_regressor(y_test, y_test_pred)"
   ]
  },
  {
   "cell_type": "markdown",
   "metadata": {},
   "source": [
    "**DATOS ESCALADOS**"
   ]
  },
  {
   "cell_type": "code",
   "execution_count": 37,
   "metadata": {},
   "outputs": [
    {
     "name": "stdout",
     "output_type": "stream",
     "text": [
      "[-0.94353901  2.32372069  0.01642727 -0.02059875 -0.07014128]\n",
      "RMSE: 0.34\n",
      "R2: 0.66\n"
     ]
    }
   ],
   "source": [
    "# Establecemos las características X y objetivo y de nuestro dataset escalado\n",
    "X_scaled = df_scaled[['age', 'gender', 'income', 'family_members']].to_numpy()\n",
    "y_scaled = df_scaled['insurance_benefits'].to_numpy()\n",
    "\n",
    "# Dividimos en conjuntos de datos de entrenamiento y prueba\n",
    "X_train_scal, X_test_scal, y_train_scal, y_test_scal = train_test_split(X_scaled, y_scaled, test_size=0.3, random_state=12345)\n",
    "\n",
    "# Establecemos nuestro modelo y lo entrenamos con el conjunto de entrenamiento\n",
    "lr = MyLinearRegression()\n",
    "lr.fit(X_train_scal, y_train_scal)\n",
    "\n",
    "# Imprimimos los pesos \n",
    "print(lr.weights)\n",
    "\n",
    "# Realizamos las predicciones en el conjunto de prueba y obtenemos las métricas\n",
    "y_test_pred_scal = lr.predict(X_test_scal)\n",
    "eval_regressor(y_test_scal, y_test_pred_scal)"
   ]
  },
  {
   "cell_type": "markdown",
   "metadata": {},
   "source": [
    "Tanto para los datos originales como para los datos escalados, obtuvimos los mismos valores para las métrica RECM y R2, que fueron de 0.34 y 0.66 respectivamente. Con esto podemos establecer que el escalamiento de datos no afecta los resultados de métricas en modelos de regresión lineal, por lo que las predicciones realizadas van a ser las mismas entre ambos grupos de datos. A su vez, los resultados de las métricas nos indican que nuestro modelo está trabajando correctamente ya que son valores cercanos a cero. Sin embargo, podemos observar que los valores de pesos obtenidos son diferentes, obteniendo pesos más bajos para los datos no estandarizados, es decir que ciertas características, como edad e ingresos, al no estar escaladas serán más importantes o tendrán un peso exagerado al construir nuestro modelo, lo que explica los cambios en los pesos calculados. "
   ]
  },
  {
   "cell_type": "markdown",
   "metadata": {},
   "source": [
    "## Tarea 4. Ofuscar datos"
   ]
  },
  {
   "cell_type": "markdown",
   "metadata": {},
   "source": [
    "Sure Tomorrow busca proteger los datos personales de sus clientes, en caso de que caigan en manos equivocadas. Para esto  desarrollaremos un algoritmo de transformación de datos que dificulte la recuperación de la información personal si los datos caen en manos equivocadas. Esto se denomina enmascaramiento u ofuscación de datos.\n",
    "\n",
    "Para ofuscar los datos, lo mejor es multiplicar las características numéricas (recuerda que se pueden ver como la matriz $X$) por una matriz invertible $P$. \n",
    "\n",
    "$$\n",
    "X' = X \\times P\n",
    "$$\n",
    "\n",
    "Comprobaremos cómo quedarán los valores de las características después de la transformación. También la propiedad de invertibilidad es importante aquí, así que nos aseguraremos de que $P$ sea realmente invertible."
   ]
  },
  {
   "cell_type": "code",
   "execution_count": 38,
   "metadata": {},
   "outputs": [
    {
     "data": {
      "text/html": [
       "<div>\n",
       "<style scoped>\n",
       "    .dataframe tbody tr th:only-of-type {\n",
       "        vertical-align: middle;\n",
       "    }\n",
       "\n",
       "    .dataframe tbody tr th {\n",
       "        vertical-align: top;\n",
       "    }\n",
       "\n",
       "    .dataframe thead th {\n",
       "        text-align: right;\n",
       "    }\n",
       "</style>\n",
       "<table border=\"1\" class=\"dataframe\">\n",
       "  <thead>\n",
       "    <tr style=\"text-align: right;\">\n",
       "      <th></th>\n",
       "      <th>gender</th>\n",
       "      <th>age</th>\n",
       "      <th>income</th>\n",
       "      <th>family_members</th>\n",
       "    </tr>\n",
       "  </thead>\n",
       "  <tbody>\n",
       "    <tr>\n",
       "      <th>0</th>\n",
       "      <td>1</td>\n",
       "      <td>41</td>\n",
       "      <td>49600.0</td>\n",
       "      <td>1</td>\n",
       "    </tr>\n",
       "    <tr>\n",
       "      <th>1</th>\n",
       "      <td>0</td>\n",
       "      <td>46</td>\n",
       "      <td>38000.0</td>\n",
       "      <td>1</td>\n",
       "    </tr>\n",
       "    <tr>\n",
       "      <th>2</th>\n",
       "      <td>0</td>\n",
       "      <td>29</td>\n",
       "      <td>21000.0</td>\n",
       "      <td>0</td>\n",
       "    </tr>\n",
       "    <tr>\n",
       "      <th>3</th>\n",
       "      <td>0</td>\n",
       "      <td>21</td>\n",
       "      <td>41700.0</td>\n",
       "      <td>2</td>\n",
       "    </tr>\n",
       "    <tr>\n",
       "      <th>4</th>\n",
       "      <td>1</td>\n",
       "      <td>28</td>\n",
       "      <td>26100.0</td>\n",
       "      <td>0</td>\n",
       "    </tr>\n",
       "  </tbody>\n",
       "</table>\n",
       "</div>"
      ],
      "text/plain": [
       "   gender  age   income  family_members\n",
       "0       1   41  49600.0               1\n",
       "1       0   46  38000.0               1\n",
       "2       0   29  21000.0               0\n",
       "3       0   21  41700.0               2\n",
       "4       1   28  26100.0               0"
      ]
     },
     "execution_count": 38,
     "metadata": {},
     "output_type": "execute_result"
    }
   ],
   "source": [
    "# Establecemos las características y filtramos nuestro dataset en base a estas\n",
    "personal_info_column_list = ['gender', 'age', 'income', 'family_members']\n",
    "df_pn = df[personal_info_column_list]\n",
    "df_pn.head()"
   ]
  },
  {
   "cell_type": "code",
   "execution_count": 39,
   "metadata": {},
   "outputs": [
    {
     "data": {
      "text/plain": [
       "array([[1.00e+00, 4.10e+01, 4.96e+04, 1.00e+00],\n",
       "       [0.00e+00, 4.60e+01, 3.80e+04, 1.00e+00],\n",
       "       [0.00e+00, 2.90e+01, 2.10e+04, 0.00e+00],\n",
       "       ...,\n",
       "       [0.00e+00, 2.00e+01, 3.39e+04, 2.00e+00],\n",
       "       [1.00e+00, 2.20e+01, 3.27e+04, 3.00e+00],\n",
       "       [1.00e+00, 2.80e+01, 4.06e+04, 1.00e+00]])"
      ]
     },
     "execution_count": 39,
     "metadata": {},
     "output_type": "execute_result"
    }
   ],
   "source": [
    "# Convertimos nuestro dataset en un numpy array\n",
    "X = df_pn.to_numpy()\n",
    "X"
   ]
  },
  {
   "cell_type": "markdown",
   "metadata": {},
   "source": [
    "Generamos una matriz aleatoria $P$."
   ]
  },
  {
   "cell_type": "code",
   "execution_count": 40,
   "metadata": {},
   "outputs": [
    {
     "data": {
      "text/plain": [
       "array([[0.77395605, 0.43887844, 0.85859792, 0.69736803],\n",
       "       [0.09417735, 0.97562235, 0.7611397 , 0.78606431],\n",
       "       [0.12811363, 0.45038594, 0.37079802, 0.92676499],\n",
       "       [0.64386512, 0.82276161, 0.4434142 , 0.22723872]])"
      ]
     },
     "execution_count": 40,
     "metadata": {},
     "output_type": "execute_result"
    }
   ],
   "source": [
    "rng = np.random.default_rng(seed=42)\n",
    "P = rng.random(size=(X.shape[1], X.shape[1]))\n",
    "P"
   ]
  },
  {
   "cell_type": "markdown",
   "metadata": {},
   "source": [
    "Comprobamos que la matriz P sea invertible, para esto obtenemos el producto escalar de nuestro matriz P y su matriz inversa. Si el producto escalar es una matriz de identidad o una matriz cuadrada con unos a lo largo de la diagonal principal, entonces podemos establecer que la matriz P es invertible. \n",
    "\n",
    "$$\n",
    "P^{-1}P = PP^{-1} = I\n",
    "$$\n"
   ]
  },
  {
   "cell_type": "code",
   "execution_count": 41,
   "metadata": {},
   "outputs": [
    {
     "data": {
      "text/plain": [
       "array([[ 1.00000000e+00, -1.69848573e-16, -7.58122972e-17,\n",
       "        -1.13112497e-16],\n",
       "       [-6.94895396e-17,  1.00000000e+00, -7.10568689e-17,\n",
       "         3.59096970e-17],\n",
       "       [-1.21269339e-16, -8.01461326e-17,  1.00000000e+00,\n",
       "         4.30764008e-19],\n",
       "       [-3.60694539e-16, -5.55430227e-16,  3.08072404e-16,\n",
       "         1.00000000e+00]])"
      ]
     },
     "execution_count": 41,
     "metadata": {},
     "output_type": "execute_result"
    }
   ],
   "source": [
    "identity_matrix = np.dot(P, np.linalg.inv(P))\n",
    "identity_matrix"
   ]
  },
  {
   "cell_type": "markdown",
   "metadata": {},
   "source": [
    "Efectivamente obtenemos una matriz de identidad con unos en la diagonal principal, por lo podemos establecer que nuestro matriz P es invertible y nos permitirá ofuscar los datos. "
   ]
  },
  {
   "cell_type": "markdown",
   "metadata": {},
   "source": [
    "Ahora crearemos nuestra matriz de ofuscación, para esto obtendremos el producto escalar de $X$ y $P$. Luego intentaremos adivinar la edad o los ingresos de los clientes después de la transformación. "
   ]
  },
  {
   "cell_type": "code",
   "execution_count": 42,
   "metadata": {},
   "outputs": [
    {
     "data": {
      "text/plain": [
       "array([[ 6359.71527314, 22380.40467609, 18424.09074184, 46000.69669016],\n",
       "       [ 4873.29406479, 17160.36702982, 14125.78076133, 35253.45577301],\n",
       "       [ 2693.11742928,  9486.397744  ,  7808.83156024, 19484.86063067],\n",
       "       ...,\n",
       "       [ 4346.2234249 , 15289.24126492, 12586.16264392, 31433.50888552],\n",
       "       [ 4194.09324155, 14751.9910242 , 12144.02930637, 30323.88763426],\n",
       "       [ 5205.46827354, 18314.24814446, 15077.01370762, 37649.59295455]])"
      ]
     },
     "execution_count": 42,
     "metadata": {},
     "output_type": "execute_result"
    }
   ],
   "source": [
    "X_ofus = np.dot(X, P)\n",
    "X_ofus "
   ]
  },
  {
   "cell_type": "markdown",
   "metadata": {},
   "source": [
    "Una vez ofuscados los datos es imposible adivinar la edad o los ingresos de los clientes, ya que obtenemos valores completamente diferentes a los originales. Por lo que podemos decir que nuestro algoritmo de ofuscación funcionará eficazmente para proteger los datos personales de nuestros clientes. "
   ]
  },
  {
   "cell_type": "markdown",
   "metadata": {},
   "source": [
    "Ahora intentaremos recuperar los datos originales de $X'$, a partir de $P$. Esto lo comprobaremos a través de cálculos moviendo $P$ del lado derecho de la fórmula anterior al izquierdo. Aplicaremos las reglas de la multiplicación matricial: \n",
    "\n",
    "$$\n",
    "X = X'\\times P^{-1}\n",
    "$$\n"
   ]
  },
  {
   "cell_type": "code",
   "execution_count": 43,
   "metadata": {},
   "outputs": [
    {
     "data": {
      "text/plain": [
       "array([[ 1.00000000e+00,  4.10000000e+01,  4.96000000e+04,\n",
       "         1.00000000e+00],\n",
       "       [-4.47363596e-12,  4.60000000e+01,  3.80000000e+04,\n",
       "         1.00000000e+00],\n",
       "       [-2.51586878e-12,  2.90000000e+01,  2.10000000e+04,\n",
       "         9.52452315e-13],\n",
       "       ...,\n",
       "       [-1.92837871e-12,  2.00000000e+01,  3.39000000e+04,\n",
       "         2.00000000e+00],\n",
       "       [ 1.00000000e+00,  2.20000000e+01,  3.27000000e+04,\n",
       "         3.00000000e+00],\n",
       "       [ 1.00000000e+00,  2.80000000e+01,  4.06000000e+04,\n",
       "         1.00000000e+00]])"
      ]
     },
     "execution_count": 43,
     "metadata": {},
     "output_type": "execute_result"
    }
   ],
   "source": [
    "X_recover = np.dot(X_ofus, np.linalg.inv(P))\n",
    "X_recover "
   ]
  },
  {
   "cell_type": "markdown",
   "metadata": {},
   "source": [
    "Al multiplicar nuestra matriz ofuscada por la matriz inversa $P$, podemos recuperar nuestra matriz original $X$."
   ]
  },
  {
   "cell_type": "markdown",
   "metadata": {},
   "source": [
    "Ahora mostraremos los tres casos para algunos clientes:\n",
    "\n",
    "- Datos originales\n",
    "- El que está transformado\n",
    "- El que está invertido (recuperado)"
   ]
  },
  {
   "cell_type": "code",
   "execution_count": 44,
   "metadata": {},
   "outputs": [
    {
     "data": {
      "text/plain": [
       "array([[1.00e+00, 4.10e+01, 4.96e+04, 1.00e+00],\n",
       "       [0.00e+00, 4.60e+01, 3.80e+04, 1.00e+00],\n",
       "       [0.00e+00, 2.90e+01, 2.10e+04, 0.00e+00],\n",
       "       [0.00e+00, 2.10e+01, 4.17e+04, 2.00e+00]])"
      ]
     },
     "execution_count": 44,
     "metadata": {},
     "output_type": "execute_result"
    }
   ],
   "source": [
    "X[:4]"
   ]
  },
  {
   "cell_type": "code",
   "execution_count": 45,
   "metadata": {},
   "outputs": [
    {
     "data": {
      "text/plain": [
       "array([[ 6359.71527314, 22380.40467609, 18424.09074184, 46000.69669016],\n",
       "       [ 4873.29406479, 17160.36702982, 14125.78076133, 35253.45577301],\n",
       "       [ 2693.11742928,  9486.397744  ,  7808.83156024, 19484.86063067],\n",
       "       [ 5345.60393712, 18803.22720286, 15479.14837264, 38663.06186284]])"
      ]
     },
     "execution_count": 45,
     "metadata": {},
     "output_type": "execute_result"
    }
   ],
   "source": [
    "X_ofus[:4]"
   ]
  },
  {
   "cell_type": "code",
   "execution_count": 46,
   "metadata": {},
   "outputs": [
    {
     "data": {
      "text/plain": [
       "array([[ 1.00000000e+00,  4.10000000e+01,  4.96000000e+04,\n",
       "         1.00000000e+00],\n",
       "       [-4.47363596e-12,  4.60000000e+01,  3.80000000e+04,\n",
       "         1.00000000e+00],\n",
       "       [-2.51586878e-12,  2.90000000e+01,  2.10000000e+04,\n",
       "         9.52452315e-13],\n",
       "       [-4.84498208e-12,  2.10000000e+01,  4.17000000e+04,\n",
       "         2.00000000e+00]])"
      ]
     },
     "execution_count": 46,
     "metadata": {},
     "output_type": "execute_result"
    }
   ],
   "source": [
    "X_recover[:4]"
   ]
  },
  {
   "cell_type": "markdown",
   "metadata": {},
   "source": [
    "Al analizar los datos para los cuatro primeros clientes, podemos observar algunos valores diferentes entre nuestra matriz original y nuestra matriz recuperada, estos cambios estarían relacionados en cómo trabaja la librería numpy. Los valores de la matriz ofuscada, obviamente son diferentes, ya que se generan del producto de la matriz original con una matriz aleatoria invertible. "
   ]
  },
  {
   "cell_type": "markdown",
   "metadata": {},
   "source": [
    "## Prueba de que la ofuscación de datos puede funcionar con regresión lineal"
   ]
  },
  {
   "cell_type": "markdown",
   "metadata": {},
   "source": [
    "A continuación vamos a demostrar analíticamente que el método de ofuscación no afectará a la regresión lineal en términos de valores predichos, es decir, que sus valores seguirán siendo los mismos. "
   ]
  },
  {
   "cell_type": "markdown",
   "metadata": {},
   "source": [
    "Entonces, los datos están ofuscados y ahora tenemos $X \\times P$ en lugar de tener solo $X$. En consecuencia, hay otros pesos $w_P$ como:\n",
    "\n",
    "$$\n",
    "w = (X^T X)^{-1} X^T y \\quad \\Rightarrow \\quad w_P = [(XP)^T XP]^{-1} (XP)^T y\n",
    "$$"
   ]
  },
  {
   "cell_type": "markdown",
   "metadata": {},
   "source": [
    "**1. ¿Cómo se relacionarían $w$ y $w_P$ si simplificáramos la fórmula de $w_P$ anterior?**"
   ]
  },
  {
   "cell_type": "markdown",
   "metadata": {},
   "source": [
    "**Prueba Analítica**\n",
    "\n",
    "Empezaremos aplicando diferentes propiedades de matrices para simplificar el valor $w_P$ de pesos para la matriz ofuscada.  Recordemos que para ofuscar nuestros datos se multiplicó nuestra matriz original por una matriz invertible $P$:\n",
    "\n",
    "$$\n",
    "w_P = [(XP)^T XP]^{-1} (XP)^T y\n",
    "$$\n",
    "\n",
    "Considerando que $(AB)^T = B^TA^T$, entonces:\n",
    "\n",
    "$$\n",
    "w_P = [P^T X^T XP]^{-1} P^T X^T y\n",
    "$$\n",
    "\n",
    "Luego, si $(AB)^{-1} = B^{-1}A^{-1}$:\n",
    "\n",
    "$$\n",
    "w_P = P^{-1} X^{-1} (X^T)^{-1} (P^T)^{-1} P^T X^T y\n",
    "$$\n",
    "\n",
    "De acuerdo a la propiedad de identidad $A^{-1}A = AA^{-1} = I$:\n",
    "\n",
    "$$\n",
    "w_P = P^{-1} X^{-1} (X^T)^{-1} I X^T y\n",
    "$$\n",
    "\n",
    "A su vez, si $IA = AI = A$, entonces:\n",
    "\n",
    "$$\n",
    "w_P = P^{-1} X^{-1} (X^T)^{-1} X^T y\n",
    "$$\n",
    "\n",
    "Volviendo a considerar que $(AB)^T = B^TA^T$:\n",
    "\n",
    "$$\n",
    "w_P = P^{-1} (X^TX)^{-1} X^T y\n",
    "$$\n",
    "\n",
    "Si tomamos en cuenta que: \n",
    "\n",
    "$$\n",
    "w = (X^T X)^{-1} X^T y\n",
    "$$\n",
    "\n",
    "Podemos concluir que:\n",
    "\n",
    "$$\n",
    "w_P = P^{-1} w\n",
    "$$"
   ]
  },
  {
   "cell_type": "markdown",
   "metadata": {},
   "source": [
    "**Respuesta**\n",
    "\n",
    "Si simplificamos la fórmula para los pesos $w_P$ a través de las propiedades de matrices establecida en el Apéndice B, podemos establecer que tanto $w_P$ y $w$ se relacionarían a través de la matriz inversa aleatoria P. De esta manera, $w_P$ sería igual al producto de la matriz inversa P y los pesos de la matriz original. "
   ]
  },
  {
   "cell_type": "markdown",
   "metadata": {},
   "source": [
    "**2. ¿Cuáles serían los valores predichos con $w_P$?**"
   ]
  },
  {
   "cell_type": "markdown",
   "metadata": {},
   "source": [
    "**Prueba Analítica**\n",
    "\n",
    "Una vez simplificada la fórmula para $w_P$, procedemos a  establecer si las predicciones realizadas a partir de la matriz de ofuscación son similares a las realizadas con la matriz original. Empecemos recordando que las predicciones se calculan de la siguiente manera: \n",
    "\n",
    "$$\n",
    "\\hat{y} = X_{val}w\n",
    "$$\n",
    "\n",
    "Al utilizar nuestra matriz ofuscada, ya no trabajamos solo con $X$ sino con $X x P$, entonces las predicciones serían: \n",
    "\n",
    "$$\n",
    "\\hat{y}_P = X_{val}Pw_P\n",
    "$$\n",
    "\n",
    "Considerando que $w_P = P^{-1} w$, entonces:\n",
    "\n",
    "$$\n",
    "\\hat{y}_P = X_{val}PP^{-1} w\n",
    "$$\n",
    "\n",
    "Tomando en cuenta que $A^{-1}A = AA^{-1} = I$:\n",
    "\n",
    "$$\n",
    "\\hat{y}_P = X_{val}I w\n",
    "$$\n",
    "\n",
    "Si $IA = AI = A$, entonces:\n",
    "\n",
    "$$\n",
    "\\hat{y}_P = X_{val} w\n",
    "$$\n",
    "\n",
    "Si $\\hat{y} = X_{val}w$, podemos concluir que:\n",
    "\n",
    "$$\n",
    "\\hat{y}_P = \\hat{y}\n",
    "$$"
   ]
  },
  {
   "cell_type": "markdown",
   "metadata": {},
   "source": [
    "**Respuesta**\n",
    "\n",
    "Como se puede observar al realizar la prueba analítica para los valores predichos con $w_P$, podemos establecer que las predicciones realizadas a partir de una matriz ofuscada van a ser similares a las predicciones realizadas con la matriz original. Concluyendo que analíticamente el ofuscamiento de datos no va a afectará el rendimiento del modelo de regresión lineal."
   ]
  },
  {
   "cell_type": "markdown",
   "metadata": {},
   "source": [
    "**3. ¿Qué significa esto para la calidad de la regresión lineal si esta se mide mediante la RECM?**"
   ]
  },
  {
   "cell_type": "markdown",
   "metadata": {},
   "source": [
    "**Respuesta**\n",
    "\n",
    "Si analíticamente, las predicciones obtenidas a partir de una matriz ofuscada son similares a las que se obtienen de la matriz original, entonces podemos establecer que la calidad el modelo no se va a ver afectada, y los resultados de métricas RECM van a ser similares. Pudiendo concluir que el ofuscamiento de datos no alterará la calida de nuestro modelo de regresión lineal y las predicciones serán las mismas. "
   ]
  },
  {
   "cell_type": "markdown",
   "metadata": {},
   "source": [
    "## Prueba de regresión lineal con ofuscación de datos"
   ]
  },
  {
   "cell_type": "markdown",
   "metadata": {},
   "source": [
    "Ahora, probaremos que la regresión lineal pueda funcionar, en términos computacionales, con la transformación de ofuscación elegida. Utilizando nuestra propia implementación de clase `MyLinearRegression`, ejecutaremos la regresión lineal opcionalmente con la ofuscación.\n",
    "\n",
    "Ejecutaremos la regresión lineal para los datos originales y los ofuscados, compararemos los valores predichos y los valores de las métricas RMSE y $R^2$, y encontraremos diferencias. "
   ]
  },
  {
   "cell_type": "markdown",
   "metadata": {},
   "source": [
    "- Creamos una matriz cuadrada $P$ de números aleatorios."
   ]
  },
  {
   "cell_type": "code",
   "execution_count": 47,
   "metadata": {},
   "outputs": [
    {
     "data": {
      "text/plain": [
       "array([[0.77395605, 0.43887844, 0.85859792, 0.69736803],\n",
       "       [0.09417735, 0.97562235, 0.7611397 , 0.78606431],\n",
       "       [0.12811363, 0.45038594, 0.37079802, 0.92676499],\n",
       "       [0.64386512, 0.82276161, 0.4434142 , 0.22723872]])"
      ]
     },
     "execution_count": 47,
     "metadata": {},
     "output_type": "execute_result"
    }
   ],
   "source": [
    "rng = np.random.default_rng(seed=42)\n",
    "P = rng.random(size=(X.shape[1], X.shape[1]))\n",
    "P"
   ]
  },
  {
   "cell_type": "markdown",
   "metadata": {},
   "source": [
    "- Comprobamos que sea invertible, obteniendo el producto de $P$ con su matriz inversa $P^{-1}$."
   ]
  },
  {
   "cell_type": "code",
   "execution_count": 48,
   "metadata": {},
   "outputs": [
    {
     "data": {
      "text/plain": [
       "array([[ 1.00000000e+00, -1.69848573e-16, -7.58122972e-17,\n",
       "        -1.13112497e-16],\n",
       "       [-6.94895396e-17,  1.00000000e+00, -7.10568689e-17,\n",
       "         3.59096970e-17],\n",
       "       [-1.21269339e-16, -8.01461326e-17,  1.00000000e+00,\n",
       "         4.30764008e-19],\n",
       "       [-3.60694539e-16, -5.55430227e-16,  3.08072404e-16,\n",
       "         1.00000000e+00]])"
      ]
     },
     "execution_count": 48,
     "metadata": {},
     "output_type": "execute_result"
    }
   ],
   "source": [
    "identity_matrix = np.dot(P, np.linalg.inv(P))\n",
    "identity_matrix"
   ]
  },
  {
   "cell_type": "markdown",
   "metadata": {},
   "source": [
    "- Nuestra matriz P es invertible ya que obtenemos una matriz de identidad al multiplicarla por su inversa. Ahora, utilizaremos la matriz ofuscada $XP$ como la nueva matriz de características."
   ]
  },
  {
   "cell_type": "code",
   "execution_count": 49,
   "metadata": {},
   "outputs": [],
   "source": [
    "# Establecemos las características y objetivo \n",
    "X = df[['age', 'gender', 'income', 'family_members']].to_numpy()\n",
    "y = df['insurance_benefits'].to_numpy()\n",
    "\n",
    "# Creamos nuestra matriz ofuscada 'X_obfuscated'\n",
    "X_obfuscated = np.dot(X, P)"
   ]
  },
  {
   "cell_type": "markdown",
   "metadata": {},
   "source": [
    "Aplicaremos nuestro modelo de regresión lineal para nuestros datos originales y compararemos los resultados obtenidos, tanto para la métrica RECM y R2, con nuestros datos ofuscados. De esta manera, comprobaremos si nuestra prueba analítica fue correcta. \n",
    "\n",
    "**DATOS ORIGINALES**"
   ]
  },
  {
   "cell_type": "code",
   "execution_count": 50,
   "metadata": {},
   "outputs": [
    {
     "name": "stdout",
     "output_type": "stream",
     "text": [
      "[-9.43539012e-01  3.57495491e-02  1.64272726e-02 -2.60743659e-07\n",
      " -1.16902127e-02]\n",
      "RMSE: 0.34\n",
      "R2: 0.66\n"
     ]
    }
   ],
   "source": [
    "X_train, X_test, y_train, y_test = train_test_split(X, y, test_size=0.3, random_state=12345)\n",
    "\n",
    "lr = MyLinearRegression()\n",
    "\n",
    "lr.fit(X_train, y_train)\n",
    "print(lr.weights)\n",
    "\n",
    "y_test_pred = lr.predict(X_test)\n",
    "eval_regressor(y_test, y_test_pred)"
   ]
  },
  {
   "cell_type": "markdown",
   "metadata": {},
   "source": [
    "**DATOS OFUSCADOS**"
   ]
  },
  {
   "cell_type": "code",
   "execution_count": 51,
   "metadata": {},
   "outputs": [
    {
     "name": "stdout",
     "output_type": "stream",
     "text": [
      "[-0.943539   -0.02212237 -0.04451118  0.09522181 -0.01340894]\n",
      "RMSE: 0.34\n",
      "R2: 0.66\n"
     ]
    }
   ],
   "source": [
    "X_train, X_test, y_train, y_test = train_test_split(X_obfuscated, y, test_size=0.3, random_state=12345)\n",
    "\n",
    "lr = MyLinearRegression()\n",
    "\n",
    "lr.fit(X_train, y_train)\n",
    "print(lr.weights)\n",
    "\n",
    "y_test_pred = lr.predict(X_test)\n",
    "eval_regressor(y_test, y_test_pred)"
   ]
  },
  {
   "cell_type": "markdown",
   "metadata": {},
   "source": [
    "Se comprueba computacionalmente, lo que anteriormente se realizó analíticamente, las predicciones realizadas a partir de una matriz ofuscada van a ser similares a las de la matriz original, por tanto los valores de las métricas RECM y R2 son similares. A su vez, nuestro algoritmo de ofuscación de datos trabaja correctamente, protegiendo la información personal de clientes y manteniendo la calidad del modelo de regresión lineal, que mantuvo un RECM=0.34 y un R2=0.66"
   ]
  },
  {
   "cell_type": "markdown",
   "metadata": {},
   "source": [
    "## Conclusiones"
   ]
  },
  {
   "cell_type": "markdown",
   "metadata": {},
   "source": [
    "1. El algoritmo kNN para establecer clientes similares a un cliente determinado funcionó mejor con datos escalados, obteniendo distancias más cortas; ya que al estandarizar los datos, ninguna de las características tiene una ponderación exagerada sino que todas influyen de igual manera al medir distancias. A su vez, se obtuvieron listas similares de clientes tanto con la distancia Euclideana como con la distancia Manhattan, por lo que se podría utilizar cualquiera de estas dos alternativas para determinar la distancia entre vecinos cercanos. Las diferencias registradas entre ambas distancias, estarían relacionadas a la forma en que se calcula cada una de ellas, ya que la distancia Euclideana considera el valor de hipotenusa para su cálculo, mientras que la distancia Manhattan considera la suma de los catetos, por lo tanto este última tiende a ser mayor.  \n",
    "2. Al construir un modelo de clasificación binaria para predecir si un cliente recibirá o no una prestación de seguro, el mejor modelo fue aquel realizado con datos estandarizados y k=1, obteniendo un puntaje F1 de 0.97. Este modelo obtuvo un rendimiento mejor a un modelo dummy, por lo que fue mejor que la aleatoriedad. Se concluye entonces que al utilizar un modelo clasificatorio de vecinos más cercanos siempre será mejor trabajar con datos estandarizados para controlar las diferencias en escala, que afectarán la calidad del modelo. A su vez, a medida que incrementa el número de k vecinos más cercanos, disminuyó la calidad del modelo, por lo que será mejor trabajar con valores bajos de k vecinos.\n",
    "3. Se estableció nuestra propia implementación de una regresión lineal, y al aplicarla en nuestro dataset original y en el dataset escalado, se pudo establecer que la estandarización de datos no influye en los resultados de las métricas RECM y R2, obteniendo valores similares en ambos modelos (RECM=0.34, R2=0.66). Sin embargo, si influyó en los valores de pesos obtenidos, siendo mayor para los datos escalados que para los datos no escalados. \n",
    "4. Sure Tomorrow buscaba proteger los datos personales de sus clientes, sin que esto afecte directamente la calidad del modelo de regresión lineal. Así que se construyó un algoritmo de ofuscación o enmascaramiento de datos, generando una nueva matriz ofuscada, resultado del producto entre la matriz original y una matriz aleatoria invertible. Posteriormente, se comprobó analíticamente a través del álgebra lineal y sus propiedades de matrices, que trabajar con datos ofuscados no afecta en las predicciones que realiza nuestro modelo, ya que al analizar los pesos de la matriz ofuscada, se pudo establecer que los valores predichos son exactamento iguales a las predicciones realizadas a partir de la matriz original. Finalmente, esto se comprobó computacionalmente, entrenando nuestro modelo con una matriz ofuscada, y obteniendo los mismos valores de RECM y R2 que nuestra matriz original. Concluyendo, que la ofuscación de datos es una alternativa efectiva para proteger la información personal de cada cliente, sin afectar el rendimiento final del modelo."
   ]
  },
  {
   "cell_type": "markdown",
   "metadata": {},
   "source": [
    "# Lista de control"
   ]
  },
  {
   "cell_type": "markdown",
   "metadata": {},
   "source": [
    "Escribe 'x' para verificar. Luego presiona Shift+Enter."
   ]
  },
  {
   "cell_type": "markdown",
   "metadata": {},
   "source": [
    "- [x]  Jupyter Notebook está abierto\n",
    "- [x]  El código no tiene errores- [X]  Las celdas están ordenadas de acuerdo con la lógica y el orden de ejecución\n",
    "- [x]  Se ha realizado la tarea 1\n",
    "    - [x]  Está presente el procedimiento que puede devolver k clientes similares para un cliente determinado\n",
    "    - [x]  Se probó el procedimiento para las cuatro combinaciones propuestas    - [x]  Se respondieron las preguntas sobre la escala/distancia- [x]  Se ha realizado la tarea 2\n",
    "    - [x]  Se construyó y probó el modelo de clasificación aleatoria para todos los niveles de probabilidad    - [x]  Se construyó y probó el modelo de clasificación kNN tanto para los datos originales como para los escalados. Se calculó la métrica F1.- [x]  Se ha realizado la tarea 3\n",
    "    - [x]  Se implementó la solución de regresión lineal mediante operaciones matriciales    - [x]  Se calculó la RECM para la solución implementada- [x]  Se ha realizado la tarea 4\n",
    "    - [x]  Se ofuscaron los datos mediante una matriz aleatoria e invertible P    - [x]  Se recuperaron los datos ofuscados y se han mostrado algunos ejemplos    - [x]  Se proporcionó la prueba analítica de que la transformación no afecta a la RECM    - [x]  Se proporcionó la prueba computacional de que la transformación no afecta a la RECM- [x]  Se han sacado conclusiones"
   ]
  },
  {
   "cell_type": "markdown",
   "metadata": {},
   "source": [
    "## Apéndices\n",
    "\n",
    "### Apéndice A: Escribir fórmulas en los cuadernos de Jupyter"
   ]
  },
  {
   "cell_type": "markdown",
   "metadata": {},
   "source": [
    "Puedes escribir fórmulas en tu Jupyter Notebook utilizando un lenguaje de marcado proporcionado por un sistema de publicación de alta calidad llamado $\\LaTeX$ (se pronuncia como \"Lah-tech\"). Las fórmulas se verán como las de los libros de texto.\n",
    "\n",
    "Para incorporar una fórmula a un texto, pon el signo de dólar (\\\\$) antes y después del texto de la fórmula, por ejemplo: $\\frac{1}{2} \\times \\frac{3}{2} = \\frac{3}{4}$ or $y = x^2, x \\ge 1$.\n",
    "\n",
    "Si una fórmula debe estar en el mismo párrafo, pon el doble signo de dólar (\\\\$\\\\$) antes y después del texto de la fórmula, por ejemplo:\n",
    "$$\n",
    "\\bar{x} = \\frac{1}{n}\\sum_{i=1}^{n} x_i.\n",
    "$$\n",
    "\n",
    "El lenguaje de marcado de [LaTeX](https://es.wikipedia.org/wiki/LaTeX) es muy popular entre las personas que utilizan fórmulas en sus artículos, libros y textos. Puede resultar complicado, pero sus fundamentos son sencillos. Consulta esta [ficha de ayuda](http://tug.ctan.org/info/undergradmath/undergradmath.pdf) (materiales en inglés) de dos páginas para aprender a componer las fórmulas más comunes."
   ]
  },
  {
   "cell_type": "markdown",
   "metadata": {},
   "source": [
    "### Apéndice B: Propiedades de las matrices"
   ]
  },
  {
   "cell_type": "markdown",
   "metadata": {},
   "source": [
    "Las matrices tienen muchas propiedades en cuanto al álgebra lineal. Aquí se enumeran algunas de ellas que pueden ayudarte a la hora de realizar la prueba analítica de este proyecto."
   ]
  },
  {
   "cell_type": "markdown",
   "metadata": {},
   "source": [
    "<table>\n",
    "<tr>\n",
    "<td>Distributividad</td><td>$A(B+C)=AB+AC$</td>\n",
    "</tr>\n",
    "<tr>\n",
    "<td>No conmutatividad</td><td>$AB \\neq BA$</td>\n",
    "</tr>\n",
    "<tr>\n",
    "<td>Propiedad asociativa de la multiplicación</td><td>$(AB)C = A(BC)$</td>\n",
    "</tr>\n",
    "<tr>\n",
    "<td>Propiedad de identidad multiplicativa</td><td>$IA = AI = A$</td>\n",
    "</tr>\n",
    "<tr>\n",
    "<td></td><td>$A^{-1}A = AA^{-1} = I$\n",
    "</td>\n",
    "</tr>    \n",
    "<tr>\n",
    "<td></td><td>$(AB)^{-1} = B^{-1}A^{-1}$</td>\n",
    "</tr>    \n",
    "<tr>\n",
    "<td>Reversibilidad de la transposición de un producto de matrices,</td><td>$(AB)^T = B^TA^T$</td>\n",
    "</tr>    \n",
    "</table>"
   ]
  }
 ],
 "metadata": {
  "kernelspec": {
   "display_name": "Python 3 (ipykernel)",
   "language": "python",
   "name": "python3"
  },
  "language_info": {
   "codemirror_mode": {
    "name": "ipython",
    "version": 3
   },
   "file_extension": ".py",
   "mimetype": "text/x-python",
   "name": "python",
   "nbconvert_exporter": "python",
   "pygments_lexer": "ipython3",
   "version": "3.9.12"
  },
  "toc": {
   "base_numbering": 1,
   "nav_menu": {},
   "number_sections": true,
   "sideBar": true,
   "skip_h1_title": true,
   "title_cell": "Tabla de Contenidos",
   "title_sidebar": "Contents",
   "toc_cell": true,
   "toc_position": {
    "height": "calc(100% - 180px)",
    "left": "10px",
    "top": "150px",
    "width": "274.07px"
   },
   "toc_section_display": true,
   "toc_window_display": true
  }
 },
 "nbformat": 4,
 "nbformat_minor": 4
}
